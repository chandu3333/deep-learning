{
 "cells": [
  {
   "cell_type": "markdown",
   "id": "494ff018",
   "metadata": {},
   "source": [
    "* BASED ON THE CHEMICALS AND MINERALS WHEATHER THE WATER IS \"SAFE (or) NOT\""
   ]
  },
  {
   "cell_type": "markdown",
   "id": "3f693413",
   "metadata": {},
   "source": [
    "## IMPORTING ALL THE LIBRARIES"
   ]
  },
  {
   "cell_type": "code",
   "execution_count": 1,
   "id": "1e25e61c",
   "metadata": {},
   "outputs": [],
   "source": [
    "import pandas as pd\n",
    "import matplotlib.pyplot as plt\n",
    "import seaborn as sns\n",
    "import numpy as np\n",
    "from sklearn.metrics import accuracy_score\n",
    "from sklearn.model_selection import train_test_split\n",
    "from sklearn.preprocessing import StandardScaler,MinMaxScaler\n",
    "import tensorflow\n",
    "from tensorflow.keras import Sequential\n",
    "from tensorflow.keras.layers import Dense,Dropout,BatchNormalization"
   ]
  },
  {
   "cell_type": "markdown",
   "id": "69278597",
   "metadata": {},
   "source": [
    "## READ THE DATASET"
   ]
  },
  {
   "cell_type": "code",
   "execution_count": 2,
   "id": "489d72e8",
   "metadata": {},
   "outputs": [],
   "source": [
    "data = pd.read_csv(r\"C:\\Users\\HP\\Downloads\\waterQuality1.csv\")"
   ]
  },
  {
   "cell_type": "code",
   "execution_count": 3,
   "id": "9cc292c8",
   "metadata": {},
   "outputs": [
    {
     "data": {
      "text/html": [
       "<div>\n",
       "<style scoped>\n",
       "    .dataframe tbody tr th:only-of-type {\n",
       "        vertical-align: middle;\n",
       "    }\n",
       "\n",
       "    .dataframe tbody tr th {\n",
       "        vertical-align: top;\n",
       "    }\n",
       "\n",
       "    .dataframe thead th {\n",
       "        text-align: right;\n",
       "    }\n",
       "</style>\n",
       "<table border=\"1\" class=\"dataframe\">\n",
       "  <thead>\n",
       "    <tr style=\"text-align: right;\">\n",
       "      <th></th>\n",
       "      <th>aluminium</th>\n",
       "      <th>ammonia</th>\n",
       "      <th>arsenic</th>\n",
       "      <th>barium</th>\n",
       "      <th>cadmium</th>\n",
       "      <th>chloramine</th>\n",
       "      <th>chromium</th>\n",
       "      <th>copper</th>\n",
       "      <th>flouride</th>\n",
       "      <th>bacteria</th>\n",
       "      <th>...</th>\n",
       "      <th>lead</th>\n",
       "      <th>nitrates</th>\n",
       "      <th>nitrites</th>\n",
       "      <th>mercury</th>\n",
       "      <th>perchlorate</th>\n",
       "      <th>radium</th>\n",
       "      <th>selenium</th>\n",
       "      <th>silver</th>\n",
       "      <th>uranium</th>\n",
       "      <th>is_safe</th>\n",
       "    </tr>\n",
       "  </thead>\n",
       "  <tbody>\n",
       "    <tr>\n",
       "      <th>0</th>\n",
       "      <td>1.65</td>\n",
       "      <td>9.08</td>\n",
       "      <td>0.04</td>\n",
       "      <td>2.85</td>\n",
       "      <td>0.007</td>\n",
       "      <td>0.35</td>\n",
       "      <td>0.83</td>\n",
       "      <td>0.17</td>\n",
       "      <td>0.05</td>\n",
       "      <td>0.20</td>\n",
       "      <td>...</td>\n",
       "      <td>0.054</td>\n",
       "      <td>16.08</td>\n",
       "      <td>1.13</td>\n",
       "      <td>0.007</td>\n",
       "      <td>37.75</td>\n",
       "      <td>6.78</td>\n",
       "      <td>0.08</td>\n",
       "      <td>0.34</td>\n",
       "      <td>0.02</td>\n",
       "      <td>1</td>\n",
       "    </tr>\n",
       "    <tr>\n",
       "      <th>1</th>\n",
       "      <td>2.32</td>\n",
       "      <td>21.16</td>\n",
       "      <td>0.01</td>\n",
       "      <td>3.31</td>\n",
       "      <td>0.002</td>\n",
       "      <td>5.28</td>\n",
       "      <td>0.68</td>\n",
       "      <td>0.66</td>\n",
       "      <td>0.90</td>\n",
       "      <td>0.65</td>\n",
       "      <td>...</td>\n",
       "      <td>0.100</td>\n",
       "      <td>2.01</td>\n",
       "      <td>1.93</td>\n",
       "      <td>0.003</td>\n",
       "      <td>32.26</td>\n",
       "      <td>3.21</td>\n",
       "      <td>0.08</td>\n",
       "      <td>0.27</td>\n",
       "      <td>0.05</td>\n",
       "      <td>1</td>\n",
       "    </tr>\n",
       "    <tr>\n",
       "      <th>2</th>\n",
       "      <td>1.01</td>\n",
       "      <td>14.02</td>\n",
       "      <td>0.04</td>\n",
       "      <td>0.58</td>\n",
       "      <td>0.008</td>\n",
       "      <td>4.24</td>\n",
       "      <td>0.53</td>\n",
       "      <td>0.02</td>\n",
       "      <td>0.99</td>\n",
       "      <td>0.05</td>\n",
       "      <td>...</td>\n",
       "      <td>0.078</td>\n",
       "      <td>14.16</td>\n",
       "      <td>1.11</td>\n",
       "      <td>0.006</td>\n",
       "      <td>50.28</td>\n",
       "      <td>7.07</td>\n",
       "      <td>0.07</td>\n",
       "      <td>0.44</td>\n",
       "      <td>0.01</td>\n",
       "      <td>0</td>\n",
       "    </tr>\n",
       "    <tr>\n",
       "      <th>3</th>\n",
       "      <td>1.36</td>\n",
       "      <td>11.33</td>\n",
       "      <td>0.04</td>\n",
       "      <td>2.96</td>\n",
       "      <td>0.001</td>\n",
       "      <td>7.23</td>\n",
       "      <td>0.03</td>\n",
       "      <td>1.66</td>\n",
       "      <td>1.08</td>\n",
       "      <td>0.71</td>\n",
       "      <td>...</td>\n",
       "      <td>0.016</td>\n",
       "      <td>1.41</td>\n",
       "      <td>1.29</td>\n",
       "      <td>0.004</td>\n",
       "      <td>9.12</td>\n",
       "      <td>1.72</td>\n",
       "      <td>0.02</td>\n",
       "      <td>0.45</td>\n",
       "      <td>0.05</td>\n",
       "      <td>1</td>\n",
       "    </tr>\n",
       "    <tr>\n",
       "      <th>4</th>\n",
       "      <td>0.92</td>\n",
       "      <td>24.33</td>\n",
       "      <td>0.03</td>\n",
       "      <td>0.20</td>\n",
       "      <td>0.006</td>\n",
       "      <td>2.67</td>\n",
       "      <td>0.69</td>\n",
       "      <td>0.57</td>\n",
       "      <td>0.61</td>\n",
       "      <td>0.13</td>\n",
       "      <td>...</td>\n",
       "      <td>0.117</td>\n",
       "      <td>6.74</td>\n",
       "      <td>1.11</td>\n",
       "      <td>0.003</td>\n",
       "      <td>16.90</td>\n",
       "      <td>2.41</td>\n",
       "      <td>0.02</td>\n",
       "      <td>0.06</td>\n",
       "      <td>0.02</td>\n",
       "      <td>1</td>\n",
       "    </tr>\n",
       "    <tr>\n",
       "      <th>...</th>\n",
       "      <td>...</td>\n",
       "      <td>...</td>\n",
       "      <td>...</td>\n",
       "      <td>...</td>\n",
       "      <td>...</td>\n",
       "      <td>...</td>\n",
       "      <td>...</td>\n",
       "      <td>...</td>\n",
       "      <td>...</td>\n",
       "      <td>...</td>\n",
       "      <td>...</td>\n",
       "      <td>...</td>\n",
       "      <td>...</td>\n",
       "      <td>...</td>\n",
       "      <td>...</td>\n",
       "      <td>...</td>\n",
       "      <td>...</td>\n",
       "      <td>...</td>\n",
       "      <td>...</td>\n",
       "      <td>...</td>\n",
       "      <td>...</td>\n",
       "    </tr>\n",
       "    <tr>\n",
       "      <th>7994</th>\n",
       "      <td>0.05</td>\n",
       "      <td>7.78</td>\n",
       "      <td>0.00</td>\n",
       "      <td>1.95</td>\n",
       "      <td>0.040</td>\n",
       "      <td>0.10</td>\n",
       "      <td>0.03</td>\n",
       "      <td>0.03</td>\n",
       "      <td>1.37</td>\n",
       "      <td>0.00</td>\n",
       "      <td>...</td>\n",
       "      <td>0.197</td>\n",
       "      <td>14.29</td>\n",
       "      <td>1.00</td>\n",
       "      <td>0.005</td>\n",
       "      <td>3.57</td>\n",
       "      <td>2.13</td>\n",
       "      <td>0.09</td>\n",
       "      <td>0.06</td>\n",
       "      <td>0.03</td>\n",
       "      <td>1</td>\n",
       "    </tr>\n",
       "    <tr>\n",
       "      <th>7995</th>\n",
       "      <td>0.05</td>\n",
       "      <td>24.22</td>\n",
       "      <td>0.02</td>\n",
       "      <td>0.59</td>\n",
       "      <td>0.010</td>\n",
       "      <td>0.45</td>\n",
       "      <td>0.02</td>\n",
       "      <td>0.02</td>\n",
       "      <td>1.48</td>\n",
       "      <td>0.00</td>\n",
       "      <td>...</td>\n",
       "      <td>0.031</td>\n",
       "      <td>10.27</td>\n",
       "      <td>1.00</td>\n",
       "      <td>0.001</td>\n",
       "      <td>1.48</td>\n",
       "      <td>1.11</td>\n",
       "      <td>0.09</td>\n",
       "      <td>0.10</td>\n",
       "      <td>0.08</td>\n",
       "      <td>1</td>\n",
       "    </tr>\n",
       "    <tr>\n",
       "      <th>7996</th>\n",
       "      <td>0.09</td>\n",
       "      <td>6.85</td>\n",
       "      <td>0.00</td>\n",
       "      <td>0.61</td>\n",
       "      <td>0.030</td>\n",
       "      <td>0.05</td>\n",
       "      <td>0.05</td>\n",
       "      <td>0.02</td>\n",
       "      <td>0.91</td>\n",
       "      <td>0.00</td>\n",
       "      <td>...</td>\n",
       "      <td>0.182</td>\n",
       "      <td>15.92</td>\n",
       "      <td>1.00</td>\n",
       "      <td>0.000</td>\n",
       "      <td>1.35</td>\n",
       "      <td>4.84</td>\n",
       "      <td>0.00</td>\n",
       "      <td>0.04</td>\n",
       "      <td>0.05</td>\n",
       "      <td>1</td>\n",
       "    </tr>\n",
       "    <tr>\n",
       "      <th>7997</th>\n",
       "      <td>0.01</td>\n",
       "      <td>10</td>\n",
       "      <td>0.01</td>\n",
       "      <td>2.00</td>\n",
       "      <td>0.000</td>\n",
       "      <td>2.00</td>\n",
       "      <td>0.00</td>\n",
       "      <td>0.09</td>\n",
       "      <td>0.00</td>\n",
       "      <td>0.00</td>\n",
       "      <td>...</td>\n",
       "      <td>0.000</td>\n",
       "      <td>0.00</td>\n",
       "      <td>0.00</td>\n",
       "      <td>0.000</td>\n",
       "      <td>0.00</td>\n",
       "      <td>0.00</td>\n",
       "      <td>0.00</td>\n",
       "      <td>0.00</td>\n",
       "      <td>0.00</td>\n",
       "      <td>1</td>\n",
       "    </tr>\n",
       "    <tr>\n",
       "      <th>7998</th>\n",
       "      <td>0.04</td>\n",
       "      <td>6.85</td>\n",
       "      <td>0.01</td>\n",
       "      <td>0.70</td>\n",
       "      <td>0.030</td>\n",
       "      <td>0.05</td>\n",
       "      <td>0.01</td>\n",
       "      <td>0.03</td>\n",
       "      <td>1.00</td>\n",
       "      <td>0.00</td>\n",
       "      <td>...</td>\n",
       "      <td>0.182</td>\n",
       "      <td>15.92</td>\n",
       "      <td>1.00</td>\n",
       "      <td>0.000</td>\n",
       "      <td>1.35</td>\n",
       "      <td>4.84</td>\n",
       "      <td>0.00</td>\n",
       "      <td>0.04</td>\n",
       "      <td>0.05</td>\n",
       "      <td>1</td>\n",
       "    </tr>\n",
       "  </tbody>\n",
       "</table>\n",
       "<p>7999 rows × 21 columns</p>\n",
       "</div>"
      ],
      "text/plain": [
       "      aluminium ammonia  arsenic  barium  cadmium  chloramine  chromium  \\\n",
       "0          1.65    9.08     0.04    2.85    0.007        0.35      0.83   \n",
       "1          2.32   21.16     0.01    3.31    0.002        5.28      0.68   \n",
       "2          1.01   14.02     0.04    0.58    0.008        4.24      0.53   \n",
       "3          1.36   11.33     0.04    2.96    0.001        7.23      0.03   \n",
       "4          0.92   24.33     0.03    0.20    0.006        2.67      0.69   \n",
       "...         ...     ...      ...     ...      ...         ...       ...   \n",
       "7994       0.05    7.78     0.00    1.95    0.040        0.10      0.03   \n",
       "7995       0.05   24.22     0.02    0.59    0.010        0.45      0.02   \n",
       "7996       0.09    6.85     0.00    0.61    0.030        0.05      0.05   \n",
       "7997       0.01      10     0.01    2.00    0.000        2.00      0.00   \n",
       "7998       0.04    6.85     0.01    0.70    0.030        0.05      0.01   \n",
       "\n",
       "      copper  flouride  bacteria  ...   lead  nitrates  nitrites  mercury  \\\n",
       "0       0.17      0.05      0.20  ...  0.054     16.08      1.13    0.007   \n",
       "1       0.66      0.90      0.65  ...  0.100      2.01      1.93    0.003   \n",
       "2       0.02      0.99      0.05  ...  0.078     14.16      1.11    0.006   \n",
       "3       1.66      1.08      0.71  ...  0.016      1.41      1.29    0.004   \n",
       "4       0.57      0.61      0.13  ...  0.117      6.74      1.11    0.003   \n",
       "...      ...       ...       ...  ...    ...       ...       ...      ...   \n",
       "7994    0.03      1.37      0.00  ...  0.197     14.29      1.00    0.005   \n",
       "7995    0.02      1.48      0.00  ...  0.031     10.27      1.00    0.001   \n",
       "7996    0.02      0.91      0.00  ...  0.182     15.92      1.00    0.000   \n",
       "7997    0.09      0.00      0.00  ...  0.000      0.00      0.00    0.000   \n",
       "7998    0.03      1.00      0.00  ...  0.182     15.92      1.00    0.000   \n",
       "\n",
       "      perchlorate  radium  selenium  silver  uranium  is_safe  \n",
       "0           37.75    6.78      0.08    0.34     0.02        1  \n",
       "1           32.26    3.21      0.08    0.27     0.05        1  \n",
       "2           50.28    7.07      0.07    0.44     0.01        0  \n",
       "3            9.12    1.72      0.02    0.45     0.05        1  \n",
       "4           16.90    2.41      0.02    0.06     0.02        1  \n",
       "...           ...     ...       ...     ...      ...      ...  \n",
       "7994         3.57    2.13      0.09    0.06     0.03        1  \n",
       "7995         1.48    1.11      0.09    0.10     0.08        1  \n",
       "7996         1.35    4.84      0.00    0.04     0.05        1  \n",
       "7997         0.00    0.00      0.00    0.00     0.00        1  \n",
       "7998         1.35    4.84      0.00    0.04     0.05        1  \n",
       "\n",
       "[7999 rows x 21 columns]"
      ]
     },
     "execution_count": 3,
     "metadata": {},
     "output_type": "execute_result"
    }
   ],
   "source": [
    "data"
   ]
  },
  {
   "cell_type": "code",
   "execution_count": 4,
   "id": "6c600516",
   "metadata": {},
   "outputs": [
    {
     "data": {
      "text/plain": [
       "is_safe\n",
       "0          7084\n",
       "1           912\n",
       "#NUM!         3\n",
       "dtype: int64"
      ]
     },
     "execution_count": 4,
     "metadata": {},
     "output_type": "execute_result"
    }
   ],
   "source": [
    "data[[\"is_safe\"]].value_counts()"
   ]
  },
  {
   "cell_type": "markdown",
   "id": "16eac223",
   "metadata": {},
   "source": [
    "* IN \"IS_SAFE\" COLUMN '2 CLASSES' ARE THERE BUT 3 ROWS ARE CONTAINS UNNESSESSARY VALUES"
   ]
  },
  {
   "cell_type": "code",
   "execution_count": 5,
   "id": "a62841ed",
   "metadata": {},
   "outputs": [
    {
     "name": "stdout",
     "output_type": "stream",
     "text": [
      "<class 'pandas.core.frame.DataFrame'>\n",
      "RangeIndex: 7999 entries, 0 to 7998\n",
      "Data columns (total 21 columns):\n",
      " #   Column       Non-Null Count  Dtype  \n",
      "---  ------       --------------  -----  \n",
      " 0   aluminium    7999 non-null   float64\n",
      " 1   ammonia      7999 non-null   object \n",
      " 2   arsenic      7999 non-null   float64\n",
      " 3   barium       7999 non-null   float64\n",
      " 4   cadmium      7999 non-null   float64\n",
      " 5   chloramine   7999 non-null   float64\n",
      " 6   chromium     7999 non-null   float64\n",
      " 7   copper       7999 non-null   float64\n",
      " 8   flouride     7999 non-null   float64\n",
      " 9   bacteria     7999 non-null   float64\n",
      " 10  viruses      7999 non-null   float64\n",
      " 11  lead         7999 non-null   float64\n",
      " 12  nitrates     7999 non-null   float64\n",
      " 13  nitrites     7999 non-null   float64\n",
      " 14  mercury      7999 non-null   float64\n",
      " 15  perchlorate  7999 non-null   float64\n",
      " 16  radium       7999 non-null   float64\n",
      " 17  selenium     7999 non-null   float64\n",
      " 18  silver       7999 non-null   float64\n",
      " 19  uranium      7999 non-null   float64\n",
      " 20  is_safe      7999 non-null   object \n",
      "dtypes: float64(19), object(2)\n",
      "memory usage: 1.3+ MB\n"
     ]
    }
   ],
   "source": [
    "data.info()"
   ]
  },
  {
   "cell_type": "code",
   "execution_count": 6,
   "id": "9f972285",
   "metadata": {},
   "outputs": [
    {
     "data": {
      "text/html": [
       "<div>\n",
       "<style scoped>\n",
       "    .dataframe tbody tr th:only-of-type {\n",
       "        vertical-align: middle;\n",
       "    }\n",
       "\n",
       "    .dataframe tbody tr th {\n",
       "        vertical-align: top;\n",
       "    }\n",
       "\n",
       "    .dataframe thead th {\n",
       "        text-align: right;\n",
       "    }\n",
       "</style>\n",
       "<table border=\"1\" class=\"dataframe\">\n",
       "  <thead>\n",
       "    <tr style=\"text-align: right;\">\n",
       "      <th></th>\n",
       "      <th>aluminium</th>\n",
       "      <th>ammonia</th>\n",
       "      <th>arsenic</th>\n",
       "      <th>barium</th>\n",
       "      <th>cadmium</th>\n",
       "      <th>chloramine</th>\n",
       "      <th>chromium</th>\n",
       "      <th>copper</th>\n",
       "      <th>flouride</th>\n",
       "      <th>bacteria</th>\n",
       "      <th>...</th>\n",
       "      <th>lead</th>\n",
       "      <th>nitrates</th>\n",
       "      <th>nitrites</th>\n",
       "      <th>mercury</th>\n",
       "      <th>perchlorate</th>\n",
       "      <th>radium</th>\n",
       "      <th>selenium</th>\n",
       "      <th>silver</th>\n",
       "      <th>uranium</th>\n",
       "      <th>is_safe</th>\n",
       "    </tr>\n",
       "  </thead>\n",
       "  <tbody>\n",
       "    <tr>\n",
       "      <th>7551</th>\n",
       "      <td>0.03</td>\n",
       "      <td>#NUM!</td>\n",
       "      <td>0.08</td>\n",
       "      <td>0.79</td>\n",
       "      <td>0.07</td>\n",
       "      <td>0.08</td>\n",
       "      <td>0.05</td>\n",
       "      <td>0.58</td>\n",
       "      <td>0.34</td>\n",
       "      <td>0.00</td>\n",
       "      <td>...</td>\n",
       "      <td>0.183</td>\n",
       "      <td>4.37</td>\n",
       "      <td>1.43</td>\n",
       "      <td>0.007</td>\n",
       "      <td>0.62</td>\n",
       "      <td>2.54</td>\n",
       "      <td>0.07</td>\n",
       "      <td>0.05</td>\n",
       "      <td>0.05</td>\n",
       "      <td>#NUM!</td>\n",
       "    </tr>\n",
       "    <tr>\n",
       "      <th>7568</th>\n",
       "      <td>0.06</td>\n",
       "      <td>#NUM!</td>\n",
       "      <td>0.07</td>\n",
       "      <td>1.72</td>\n",
       "      <td>0.08</td>\n",
       "      <td>0.32</td>\n",
       "      <td>0.01</td>\n",
       "      <td>1.11</td>\n",
       "      <td>0.61</td>\n",
       "      <td>0.00</td>\n",
       "      <td>...</td>\n",
       "      <td>0.178</td>\n",
       "      <td>12.10</td>\n",
       "      <td>2.03</td>\n",
       "      <td>0.008</td>\n",
       "      <td>1.37</td>\n",
       "      <td>2.05</td>\n",
       "      <td>0.06</td>\n",
       "      <td>0.10</td>\n",
       "      <td>0.07</td>\n",
       "      <td>#NUM!</td>\n",
       "    </tr>\n",
       "    <tr>\n",
       "      <th>7890</th>\n",
       "      <td>0.01</td>\n",
       "      <td>#NUM!</td>\n",
       "      <td>0.08</td>\n",
       "      <td>0.49</td>\n",
       "      <td>0.00</td>\n",
       "      <td>0.07</td>\n",
       "      <td>0.09</td>\n",
       "      <td>0.06</td>\n",
       "      <td>0.72</td>\n",
       "      <td>0.57</td>\n",
       "      <td>...</td>\n",
       "      <td>0.088</td>\n",
       "      <td>9.57</td>\n",
       "      <td>1.45</td>\n",
       "      <td>0.009</td>\n",
       "      <td>7.67</td>\n",
       "      <td>7.70</td>\n",
       "      <td>0.03</td>\n",
       "      <td>0.05</td>\n",
       "      <td>0.02</td>\n",
       "      <td>#NUM!</td>\n",
       "    </tr>\n",
       "  </tbody>\n",
       "</table>\n",
       "<p>3 rows × 21 columns</p>\n",
       "</div>"
      ],
      "text/plain": [
       "      aluminium ammonia  arsenic  barium  cadmium  chloramine  chromium  \\\n",
       "7551       0.03   #NUM!     0.08    0.79     0.07        0.08      0.05   \n",
       "7568       0.06   #NUM!     0.07    1.72     0.08        0.32      0.01   \n",
       "7890       0.01   #NUM!     0.08    0.49     0.00        0.07      0.09   \n",
       "\n",
       "      copper  flouride  bacteria  ...   lead  nitrates  nitrites  mercury  \\\n",
       "7551    0.58      0.34      0.00  ...  0.183      4.37      1.43    0.007   \n",
       "7568    1.11      0.61      0.00  ...  0.178     12.10      2.03    0.008   \n",
       "7890    0.06      0.72      0.57  ...  0.088      9.57      1.45    0.009   \n",
       "\n",
       "      perchlorate  radium  selenium  silver  uranium  is_safe  \n",
       "7551         0.62    2.54      0.07    0.05     0.05    #NUM!  \n",
       "7568         1.37    2.05      0.06    0.10     0.07    #NUM!  \n",
       "7890         7.67    7.70      0.03    0.05     0.02    #NUM!  \n",
       "\n",
       "[3 rows x 21 columns]"
      ]
     },
     "execution_count": 6,
     "metadata": {},
     "output_type": "execute_result"
    }
   ],
   "source": [
    "data.loc[(data[\"ammonia\"]==\"#NUM!\") & (data[\"is_safe\"]==\"#NUM!\")]"
   ]
  },
  {
   "cell_type": "markdown",
   "id": "8a39f75f",
   "metadata": {},
   "source": [
    "* IN \"ammonia\" AND \"is_safe\" columns ARE CONTAINS FEW UNNESSESARY VALUES IN SAME ROW  SO WE CAN DELET THAT ROWS"
   ]
  },
  {
   "cell_type": "code",
   "execution_count": 7,
   "id": "087e37f0",
   "metadata": {},
   "outputs": [],
   "source": [
    "data.drop(data.loc[data[\"ammonia\"]==\"#NUM!\"].index,inplace=True)"
   ]
  },
  {
   "cell_type": "markdown",
   "id": "0397812b",
   "metadata": {},
   "source": [
    "* SUCCESSFULLY DROPPED THAT 3 ROWS \n",
    "* ALSO WE NEED TO CHANGE THE DATA TYPE TO 'FLOAT (OR) INT'"
   ]
  },
  {
   "cell_type": "code",
   "execution_count": 20,
   "id": "388d91ed",
   "metadata": {},
   "outputs": [],
   "source": [
    "data[\"ammonia\"] = data[\"ammonia\"].astype(float)\n",
    "data[\"is_safe\"] = data[\"is_safe\"].astype(float)"
   ]
  },
  {
   "cell_type": "markdown",
   "id": "9b147446",
   "metadata": {},
   "source": [
    "* SUCCESSFULLY CHANGED THE DATATYPE TO 'FLOAT'"
   ]
  },
  {
   "cell_type": "code",
   "execution_count": 9,
   "id": "fd51b206",
   "metadata": {},
   "outputs": [
    {
     "data": {
      "text/plain": [
       "0"
      ]
     },
     "execution_count": 9,
     "metadata": {},
     "output_type": "execute_result"
    }
   ],
   "source": [
    "data['ammonia'].isnull().sum()"
   ]
  },
  {
   "cell_type": "code",
   "execution_count": 10,
   "id": "94976b9f",
   "metadata": {},
   "outputs": [
    {
     "data": {
      "text/plain": [
       "0"
      ]
     },
     "execution_count": 10,
     "metadata": {},
     "output_type": "execute_result"
    }
   ],
   "source": [
    "data.duplicated().sum()"
   ]
  },
  {
   "cell_type": "markdown",
   "id": "ff4c2a95",
   "metadata": {},
   "source": [
    "* IN THIS DATASET 'NO DUPLICATES AND NULL VALUES'"
   ]
  },
  {
   "cell_type": "markdown",
   "id": "58fab2f1",
   "metadata": {},
   "source": [
    "## SEPARATES THE DATASET XI'S WITH YI'S"
   ]
  },
  {
   "cell_type": "code",
   "execution_count": 21,
   "id": "aec3aaf7",
   "metadata": {},
   "outputs": [],
   "source": [
    "fv = data.drop(['is_safe'],axis=1)\n",
    "cv = data[['is_safe']]"
   ]
  },
  {
   "cell_type": "markdown",
   "id": "89e3a16b",
   "metadata": {},
   "source": [
    "## SPLITTING THE DTASET INTO D_TRAIN & D_TEST"
   ]
  },
  {
   "cell_type": "code",
   "execution_count": 22,
   "id": "44e533ca",
   "metadata": {},
   "outputs": [],
   "source": [
    "x_train,x_test,y_train,y_test = train_test_split(fv,cv,test_size=0.3,random_state=1)"
   ]
  },
  {
   "cell_type": "code",
   "execution_count": 23,
   "id": "8d606c04",
   "metadata": {},
   "outputs": [
    {
     "data": {
      "text/plain": [
       "20"
      ]
     },
     "execution_count": 23,
     "metadata": {},
     "output_type": "execute_result"
    }
   ],
   "source": [
    "len(x_train.columns)"
   ]
  },
  {
   "cell_type": "markdown",
   "id": "39990cdc",
   "metadata": {},
   "source": [
    "## BUILDING THE MULTIPLE LAYERED NEURON MODEL"
   ]
  },
  {
   "cell_type": "code",
   "execution_count": 24,
   "id": "376561b6",
   "metadata": {},
   "outputs": [
    {
     "name": "stdout",
     "output_type": "stream",
     "text": [
      "Model: \"sequential_1\"\n",
      "_________________________________________________________________\n",
      " Layer (type)                Output Shape              Param #   \n",
      "=================================================================\n",
      " dense_4 (Dense)             (None, 10)                210       \n",
      "                                                                 \n",
      " dense_5 (Dense)             (None, 8)                 88        \n",
      "                                                                 \n",
      " dense_6 (Dense)             (None, 4)                 36        \n",
      "                                                                 \n",
      " dense_7 (Dense)             (None, 1)                 5         \n",
      "                                                                 \n",
      "=================================================================\n",
      "Total params: 339\n",
      "Trainable params: 339\n",
      "Non-trainable params: 0\n",
      "_________________________________________________________________\n"
     ]
    }
   ],
   "source": [
    "model = Sequential()\n",
    "model.add(Dense(10,activation=\"relu\",input_dim = 20,kernel_initializer=\"he_uniform\"))\n",
    "model.add(Dense(8,activation=\"relu\",kernel_initializer=\"he_uniform\"))\n",
    "model.add(Dense(4,activation=\"relu\",kernel_initializer=\"he_uniform\"))\n",
    "model.add(Dense(1,activation=\"sigmoid\"))\n",
    "model.summary()"
   ]
  },
  {
   "cell_type": "markdown",
   "id": "f7bdf55f",
   "metadata": {},
   "source": [
    "* IN THIS MODEL TOTALLY 339 TRAINABLE PARRAMETERS ARE THERE (23-BIASES,316-WEIGHTS)."
   ]
  },
  {
   "cell_type": "markdown",
   "id": "74d9dc22",
   "metadata": {},
   "source": [
    "## COMPILING THE MODEL"
   ]
  },
  {
   "cell_type": "code",
   "execution_count": 25,
   "id": "89f58b17",
   "metadata": {},
   "outputs": [],
   "source": [
    "model.compile(optimizer=\"Adam\",loss=\"binary_crossentropy\",metrics=['accuracy'])"
   ]
  },
  {
   "cell_type": "markdown",
   "id": "2be01ebe",
   "metadata": {},
   "source": [
    "## TRAINING THE MODEL WITH 100 EPOCHS, OPTIMIZER=ADAM"
   ]
  },
  {
   "cell_type": "code",
   "execution_count": 26,
   "id": "225e4666",
   "metadata": {},
   "outputs": [
    {
     "name": "stdout",
     "output_type": "stream",
     "text": [
      "Epoch 1/100\n",
      "448/448 [==============================] - 3s 3ms/step - loss: 0.3758 - accuracy: 0.8872 - val_loss: 0.3546 - val_accuracy: 0.8768\n",
      "Epoch 2/100\n",
      "448/448 [==============================] - 1s 2ms/step - loss: 0.3099 - accuracy: 0.8876 - val_loss: 0.3207 - val_accuracy: 0.8768\n",
      "Epoch 3/100\n",
      "448/448 [==============================] - 1s 2ms/step - loss: 0.2896 - accuracy: 0.8876 - val_loss: 0.2957 - val_accuracy: 0.8768\n",
      "Epoch 4/100\n",
      "448/448 [==============================] - 1s 2ms/step - loss: 0.2717 - accuracy: 0.8876 - val_loss: 0.2756 - val_accuracy: 0.8768\n",
      "Epoch 5/100\n",
      "448/448 [==============================] - 1s 2ms/step - loss: 0.2618 - accuracy: 0.8876 - val_loss: 0.2642 - val_accuracy: 0.8768\n",
      "Epoch 6/100\n",
      "448/448 [==============================] - 1s 3ms/step - loss: 0.2550 - accuracy: 0.8973 - val_loss: 0.2619 - val_accuracy: 0.8884\n",
      "Epoch 7/100\n",
      "448/448 [==============================] - 1s 3ms/step - loss: 0.2501 - accuracy: 0.9022 - val_loss: 0.2544 - val_accuracy: 0.8920\n",
      "Epoch 8/100\n",
      "448/448 [==============================] - 1s 3ms/step - loss: 0.2462 - accuracy: 0.9042 - val_loss: 0.2483 - val_accuracy: 0.8911\n",
      "Epoch 9/100\n",
      "448/448 [==============================] - 1s 2ms/step - loss: 0.2423 - accuracy: 0.9062 - val_loss: 0.2456 - val_accuracy: 0.8964\n",
      "Epoch 10/100\n",
      "448/448 [==============================] - 1s 2ms/step - loss: 0.2408 - accuracy: 0.9037 - val_loss: 0.2535 - val_accuracy: 0.9018\n",
      "Epoch 11/100\n",
      "448/448 [==============================] - 1s 2ms/step - loss: 0.2373 - accuracy: 0.9078 - val_loss: 0.2472 - val_accuracy: 0.9027\n",
      "Epoch 12/100\n",
      "448/448 [==============================] - 1s 2ms/step - loss: 0.2356 - accuracy: 0.9040 - val_loss: 0.2386 - val_accuracy: 0.9071\n",
      "Epoch 13/100\n",
      "448/448 [==============================] - 1s 2ms/step - loss: 0.2323 - accuracy: 0.9069 - val_loss: 0.2422 - val_accuracy: 0.9045\n",
      "Epoch 14/100\n",
      "448/448 [==============================] - 1s 2ms/step - loss: 0.2287 - accuracy: 0.9109 - val_loss: 0.2438 - val_accuracy: 0.9062\n",
      "Epoch 15/100\n",
      "448/448 [==============================] - 1s 2ms/step - loss: 0.2274 - accuracy: 0.9107 - val_loss: 0.2380 - val_accuracy: 0.9062\n",
      "Epoch 16/100\n",
      "448/448 [==============================] - 1s 2ms/step - loss: 0.2238 - accuracy: 0.9111 - val_loss: 0.2382 - val_accuracy: 0.9089\n",
      "Epoch 17/100\n",
      "448/448 [==============================] - 1s 2ms/step - loss: 0.2227 - accuracy: 0.9122 - val_loss: 0.2368 - val_accuracy: 0.9080\n",
      "Epoch 18/100\n",
      "448/448 [==============================] - 1s 2ms/step - loss: 0.2207 - accuracy: 0.9109 - val_loss: 0.2308 - val_accuracy: 0.9080\n",
      "Epoch 19/100\n",
      "448/448 [==============================] - 1s 2ms/step - loss: 0.2181 - accuracy: 0.9165 - val_loss: 0.2258 - val_accuracy: 0.9116\n",
      "Epoch 20/100\n",
      "448/448 [==============================] - 1s 2ms/step - loss: 0.2159 - accuracy: 0.9142 - val_loss: 0.2248 - val_accuracy: 0.9107\n",
      "Epoch 21/100\n",
      "448/448 [==============================] - 1s 3ms/step - loss: 0.2146 - accuracy: 0.9169 - val_loss: 0.2486 - val_accuracy: 0.9027\n",
      "Epoch 22/100\n",
      "448/448 [==============================] - 1s 3ms/step - loss: 0.2144 - accuracy: 0.9151 - val_loss: 0.2299 - val_accuracy: 0.9098\n",
      "Epoch 23/100\n",
      "448/448 [==============================] - 1s 2ms/step - loss: 0.2117 - accuracy: 0.9182 - val_loss: 0.2342 - val_accuracy: 0.9089\n",
      "Epoch 24/100\n",
      "448/448 [==============================] - 1s 2ms/step - loss: 0.2112 - accuracy: 0.9187 - val_loss: 0.2262 - val_accuracy: 0.9143\n",
      "Epoch 25/100\n",
      "448/448 [==============================] - 1s 2ms/step - loss: 0.2089 - accuracy: 0.9189 - val_loss: 0.2219 - val_accuracy: 0.9161\n",
      "Epoch 26/100\n",
      "448/448 [==============================] - 1s 3ms/step - loss: 0.2086 - accuracy: 0.9189 - val_loss: 0.2218 - val_accuracy: 0.9125\n",
      "Epoch 27/100\n",
      "448/448 [==============================] - 1s 2ms/step - loss: 0.2050 - accuracy: 0.9200 - val_loss: 0.2190 - val_accuracy: 0.9143\n",
      "Epoch 28/100\n",
      "448/448 [==============================] - 1s 2ms/step - loss: 0.2028 - accuracy: 0.9203 - val_loss: 0.2145 - val_accuracy: 0.9161\n",
      "Epoch 29/100\n",
      "448/448 [==============================] - 1s 2ms/step - loss: 0.2017 - accuracy: 0.9232 - val_loss: 0.2202 - val_accuracy: 0.9170\n",
      "Epoch 30/100\n",
      "448/448 [==============================] - 1s 3ms/step - loss: 0.2011 - accuracy: 0.9223 - val_loss: 0.2172 - val_accuracy: 0.9196\n",
      "Epoch 31/100\n",
      "448/448 [==============================] - 1s 2ms/step - loss: 0.2014 - accuracy: 0.9214 - val_loss: 0.2136 - val_accuracy: 0.9116\n",
      "Epoch 32/100\n",
      "448/448 [==============================] - 1s 2ms/step - loss: 0.2000 - accuracy: 0.9223 - val_loss: 0.2141 - val_accuracy: 0.9170\n",
      "Epoch 33/100\n",
      "448/448 [==============================] - 1s 2ms/step - loss: 0.1963 - accuracy: 0.9236 - val_loss: 0.2129 - val_accuracy: 0.9170\n",
      "Epoch 34/100\n",
      "448/448 [==============================] - 1s 2ms/step - loss: 0.1981 - accuracy: 0.9243 - val_loss: 0.2087 - val_accuracy: 0.9196\n",
      "Epoch 35/100\n",
      "448/448 [==============================] - 1s 2ms/step - loss: 0.1958 - accuracy: 0.9258 - val_loss: 0.2042 - val_accuracy: 0.9205\n",
      "Epoch 36/100\n",
      "448/448 [==============================] - 1s 2ms/step - loss: 0.1937 - accuracy: 0.9267 - val_loss: 0.2048 - val_accuracy: 0.9223\n",
      "Epoch 37/100\n",
      "448/448 [==============================] - 1s 2ms/step - loss: 0.1922 - accuracy: 0.9272 - val_loss: 0.2062 - val_accuracy: 0.9223\n",
      "Epoch 38/100\n",
      "448/448 [==============================] - 1s 2ms/step - loss: 0.1906 - accuracy: 0.9281 - val_loss: 0.2069 - val_accuracy: 0.9241\n",
      "Epoch 39/100\n",
      "448/448 [==============================] - 1s 2ms/step - loss: 0.1924 - accuracy: 0.9272 - val_loss: 0.2050 - val_accuracy: 0.9214\n",
      "Epoch 40/100\n",
      "448/448 [==============================] - 1s 2ms/step - loss: 0.1879 - accuracy: 0.9283 - val_loss: 0.2064 - val_accuracy: 0.9196\n",
      "Epoch 41/100\n",
      "448/448 [==============================] - 1s 2ms/step - loss: 0.1894 - accuracy: 0.9305 - val_loss: 0.2058 - val_accuracy: 0.9259\n",
      "Epoch 42/100\n",
      "448/448 [==============================] - 1s 2ms/step - loss: 0.1862 - accuracy: 0.9294 - val_loss: 0.2068 - val_accuracy: 0.9196\n",
      "Epoch 43/100\n",
      "448/448 [==============================] - 1s 2ms/step - loss: 0.1854 - accuracy: 0.9290 - val_loss: 0.2002 - val_accuracy: 0.9277\n",
      "Epoch 44/100\n",
      "448/448 [==============================] - 1s 2ms/step - loss: 0.1868 - accuracy: 0.9281 - val_loss: 0.2015 - val_accuracy: 0.9259\n",
      "Epoch 45/100\n",
      "448/448 [==============================] - 1s 2ms/step - loss: 0.1843 - accuracy: 0.9308 - val_loss: 0.2223 - val_accuracy: 0.9098\n",
      "Epoch 46/100\n",
      "448/448 [==============================] - 1s 2ms/step - loss: 0.1840 - accuracy: 0.9312 - val_loss: 0.2019 - val_accuracy: 0.9259\n",
      "Epoch 47/100\n",
      "448/448 [==============================] - 1s 2ms/step - loss: 0.1829 - accuracy: 0.9317 - val_loss: 0.1975 - val_accuracy: 0.9250\n",
      "Epoch 48/100\n",
      "448/448 [==============================] - 1s 2ms/step - loss: 0.1794 - accuracy: 0.9330 - val_loss: 0.2107 - val_accuracy: 0.9170\n",
      "Epoch 49/100\n",
      "448/448 [==============================] - 1s 2ms/step - loss: 0.1795 - accuracy: 0.9314 - val_loss: 0.1987 - val_accuracy: 0.9250\n",
      "Epoch 50/100\n",
      "448/448 [==============================] - 1s 2ms/step - loss: 0.1801 - accuracy: 0.9325 - val_loss: 0.2024 - val_accuracy: 0.9312\n",
      "Epoch 51/100\n",
      "448/448 [==============================] - 1s 2ms/step - loss: 0.1784 - accuracy: 0.9341 - val_loss: 0.2163 - val_accuracy: 0.9134\n",
      "Epoch 52/100\n",
      "448/448 [==============================] - 1s 2ms/step - loss: 0.1771 - accuracy: 0.9290 - val_loss: 0.1942 - val_accuracy: 0.9295\n",
      "Epoch 53/100\n",
      "448/448 [==============================] - 1s 2ms/step - loss: 0.1786 - accuracy: 0.9319 - val_loss: 0.2073 - val_accuracy: 0.9241\n",
      "Epoch 54/100\n",
      "448/448 [==============================] - 1s 2ms/step - loss: 0.1727 - accuracy: 0.9325 - val_loss: 0.1940 - val_accuracy: 0.9339\n",
      "Epoch 55/100\n",
      "448/448 [==============================] - 1s 3ms/step - loss: 0.1750 - accuracy: 0.9341 - val_loss: 0.2029 - val_accuracy: 0.9250\n",
      "Epoch 56/100\n",
      "448/448 [==============================] - 1s 3ms/step - loss: 0.1740 - accuracy: 0.9357 - val_loss: 0.1998 - val_accuracy: 0.9286\n",
      "Epoch 57/100\n",
      "448/448 [==============================] - 1s 3ms/step - loss: 0.1731 - accuracy: 0.9370 - val_loss: 0.1907 - val_accuracy: 0.9259\n"
     ]
    },
    {
     "name": "stdout",
     "output_type": "stream",
     "text": [
      "Epoch 58/100\n",
      "448/448 [==============================] - 1s 2ms/step - loss: 0.1721 - accuracy: 0.9354 - val_loss: 0.1979 - val_accuracy: 0.9330\n",
      "Epoch 59/100\n",
      "448/448 [==============================] - 1s 2ms/step - loss: 0.1706 - accuracy: 0.9334 - val_loss: 0.1955 - val_accuracy: 0.9321\n",
      "Epoch 60/100\n",
      "448/448 [==============================] - 1s 2ms/step - loss: 0.1707 - accuracy: 0.9363 - val_loss: 0.1880 - val_accuracy: 0.9286\n",
      "Epoch 61/100\n",
      "448/448 [==============================] - 1s 2ms/step - loss: 0.1698 - accuracy: 0.9392 - val_loss: 0.1923 - val_accuracy: 0.9312\n",
      "Epoch 62/100\n",
      "448/448 [==============================] - 1s 2ms/step - loss: 0.1682 - accuracy: 0.9363 - val_loss: 0.1906 - val_accuracy: 0.9330\n",
      "Epoch 63/100\n",
      "448/448 [==============================] - 1s 2ms/step - loss: 0.1700 - accuracy: 0.9363 - val_loss: 0.1929 - val_accuracy: 0.9268\n",
      "Epoch 64/100\n",
      "448/448 [==============================] - 1s 2ms/step - loss: 0.1658 - accuracy: 0.9399 - val_loss: 0.1904 - val_accuracy: 0.9375\n",
      "Epoch 65/100\n",
      "448/448 [==============================] - 1s 2ms/step - loss: 0.1670 - accuracy: 0.9363 - val_loss: 0.1963 - val_accuracy: 0.9277\n",
      "Epoch 66/100\n",
      "448/448 [==============================] - 1s 2ms/step - loss: 0.1649 - accuracy: 0.9404 - val_loss: 0.1846 - val_accuracy: 0.9348\n",
      "Epoch 67/100\n",
      "448/448 [==============================] - 1s 2ms/step - loss: 0.1630 - accuracy: 0.9395 - val_loss: 0.1968 - val_accuracy: 0.9295\n",
      "Epoch 68/100\n",
      "448/448 [==============================] - 1s 2ms/step - loss: 0.1625 - accuracy: 0.9395 - val_loss: 0.1893 - val_accuracy: 0.9348\n",
      "Epoch 69/100\n",
      "448/448 [==============================] - 1s 2ms/step - loss: 0.1641 - accuracy: 0.9392 - val_loss: 0.1859 - val_accuracy: 0.9312\n",
      "Epoch 70/100\n",
      "448/448 [==============================] - 1s 2ms/step - loss: 0.1659 - accuracy: 0.9368 - val_loss: 0.1954 - val_accuracy: 0.9304\n",
      "Epoch 71/100\n",
      "448/448 [==============================] - 1s 2ms/step - loss: 0.1653 - accuracy: 0.9390 - val_loss: 0.1948 - val_accuracy: 0.9402\n",
      "Epoch 72/100\n",
      "448/448 [==============================] - 1s 2ms/step - loss: 0.1636 - accuracy: 0.9392 - val_loss: 0.2033 - val_accuracy: 0.9250\n",
      "Epoch 73/100\n",
      "448/448 [==============================] - 1s 2ms/step - loss: 0.1628 - accuracy: 0.9388 - val_loss: 0.1853 - val_accuracy: 0.9339\n",
      "Epoch 74/100\n",
      "448/448 [==============================] - 1s 2ms/step - loss: 0.1590 - accuracy: 0.9417 - val_loss: 0.1841 - val_accuracy: 0.9348\n",
      "Epoch 75/100\n",
      "448/448 [==============================] - 1s 3ms/step - loss: 0.1619 - accuracy: 0.9406 - val_loss: 0.1873 - val_accuracy: 0.9366\n",
      "Epoch 76/100\n",
      "448/448 [==============================] - 1s 2ms/step - loss: 0.1614 - accuracy: 0.9408 - val_loss: 0.1855 - val_accuracy: 0.9330\n",
      "Epoch 77/100\n",
      "448/448 [==============================] - 1s 2ms/step - loss: 0.1615 - accuracy: 0.9399 - val_loss: 0.1845 - val_accuracy: 0.9411\n",
      "Epoch 78/100\n",
      "448/448 [==============================] - 1s 3ms/step - loss: 0.1577 - accuracy: 0.9426 - val_loss: 0.1893 - val_accuracy: 0.9393\n",
      "Epoch 79/100\n",
      "448/448 [==============================] - 1s 3ms/step - loss: 0.1583 - accuracy: 0.9442 - val_loss: 0.1898 - val_accuracy: 0.9312\n",
      "Epoch 80/100\n",
      "448/448 [==============================] - 1s 3ms/step - loss: 0.1602 - accuracy: 0.9413 - val_loss: 0.1927 - val_accuracy: 0.9375\n",
      "Epoch 81/100\n",
      "448/448 [==============================] - 1s 3ms/step - loss: 0.1580 - accuracy: 0.9417 - val_loss: 0.1876 - val_accuracy: 0.9357\n",
      "Epoch 82/100\n",
      "448/448 [==============================] - 1s 2ms/step - loss: 0.1591 - accuracy: 0.9401 - val_loss: 0.1946 - val_accuracy: 0.9384\n",
      "Epoch 83/100\n",
      "448/448 [==============================] - 1s 2ms/step - loss: 0.1605 - accuracy: 0.9435 - val_loss: 0.1891 - val_accuracy: 0.9295\n",
      "Epoch 84/100\n",
      "448/448 [==============================] - 1s 2ms/step - loss: 0.1588 - accuracy: 0.9417 - val_loss: 0.1914 - val_accuracy: 0.9330\n",
      "Epoch 85/100\n",
      "448/448 [==============================] - 1s 2ms/step - loss: 0.1575 - accuracy: 0.9433 - val_loss: 0.1852 - val_accuracy: 0.9339\n",
      "Epoch 86/100\n",
      "448/448 [==============================] - 1s 2ms/step - loss: 0.1579 - accuracy: 0.9421 - val_loss: 0.1923 - val_accuracy: 0.9357\n",
      "Epoch 87/100\n",
      "448/448 [==============================] - 1s 2ms/step - loss: 0.1594 - accuracy: 0.9384 - val_loss: 0.1867 - val_accuracy: 0.9348\n",
      "Epoch 88/100\n",
      "448/448 [==============================] - 1s 2ms/step - loss: 0.1538 - accuracy: 0.9442 - val_loss: 0.2008 - val_accuracy: 0.9339\n",
      "Epoch 89/100\n",
      "448/448 [==============================] - 1s 2ms/step - loss: 0.1549 - accuracy: 0.9417 - val_loss: 0.1945 - val_accuracy: 0.9339\n",
      "Epoch 90/100\n",
      "448/448 [==============================] - 1s 2ms/step - loss: 0.1546 - accuracy: 0.9430 - val_loss: 0.1800 - val_accuracy: 0.9429\n",
      "Epoch 91/100\n",
      "448/448 [==============================] - 1s 3ms/step - loss: 0.1563 - accuracy: 0.9408 - val_loss: 0.1864 - val_accuracy: 0.9330\n",
      "Epoch 92/100\n",
      "448/448 [==============================] - 1s 3ms/step - loss: 0.1579 - accuracy: 0.9426 - val_loss: 0.1815 - val_accuracy: 0.9393\n",
      "Epoch 93/100\n",
      "448/448 [==============================] - 1s 2ms/step - loss: 0.1547 - accuracy: 0.9417 - val_loss: 0.1874 - val_accuracy: 0.9304\n",
      "Epoch 94/100\n",
      "448/448 [==============================] - 2s 5ms/step - loss: 0.1537 - accuracy: 0.9424 - val_loss: 0.1896 - val_accuracy: 0.9411\n",
      "Epoch 95/100\n",
      "448/448 [==============================] - 4s 8ms/step - loss: 0.1525 - accuracy: 0.9430 - val_loss: 0.2017 - val_accuracy: 0.9295\n",
      "Epoch 96/100\n",
      "448/448 [==============================] - 2s 5ms/step - loss: 0.1542 - accuracy: 0.9428 - val_loss: 0.1968 - val_accuracy: 0.9348\n",
      "Epoch 97/100\n",
      "448/448 [==============================] - 4s 8ms/step - loss: 0.1545 - accuracy: 0.9446 - val_loss: 0.1795 - val_accuracy: 0.9384\n",
      "Epoch 98/100\n",
      "448/448 [==============================] - 3s 7ms/step - loss: 0.1510 - accuracy: 0.9451 - val_loss: 0.1872 - val_accuracy: 0.9384\n",
      "Epoch 99/100\n",
      "448/448 [==============================] - 4s 8ms/step - loss: 0.1525 - accuracy: 0.9457 - val_loss: 0.1875 - val_accuracy: 0.9330\n",
      "Epoch 100/100\n",
      "448/448 [==============================] - 3s 8ms/step - loss: 0.1542 - accuracy: 0.9426 - val_loss: 0.1870 - val_accuracy: 0.9402\n"
     ]
    }
   ],
   "source": [
    "a = model.fit(x_train,y_train,batch_size=10,epochs=100,verbose=1,validation_split=0.2)"
   ]
  },
  {
   "cell_type": "markdown",
   "id": "84672b8f",
   "metadata": {},
   "source": [
    "## PRIDICTING THE MODEL WITH X_TRAIN"
   ]
  },
  {
   "cell_type": "code",
   "execution_count": 27,
   "id": "fac4cf3b",
   "metadata": {},
   "outputs": [
    {
     "name": "stdout",
     "output_type": "stream",
     "text": [
      "175/175 [==============================] - 2s 5ms/step\n"
     ]
    }
   ],
   "source": [
    "p = model.predict(x_train)"
   ]
  },
  {
   "cell_type": "code",
   "execution_count": 28,
   "id": "fe897c69",
   "metadata": {},
   "outputs": [],
   "source": [
    "pp=np.where(p>0.5,1,0).flatten()"
   ]
  },
  {
   "cell_type": "code",
   "execution_count": 29,
   "id": "ac771af5",
   "metadata": {},
   "outputs": [
    {
     "data": {
      "text/plain": [
       "array([0, 0, 1, ..., 0, 0, 0])"
      ]
     },
     "execution_count": 29,
     "metadata": {},
     "output_type": "execute_result"
    }
   ],
   "source": [
    "pp"
   ]
  },
  {
   "cell_type": "code",
   "execution_count": 30,
   "id": "04b23e71",
   "metadata": {},
   "outputs": [
    {
     "data": {
      "text/plain": [
       "0.944255851348937"
      ]
     },
     "execution_count": 30,
     "metadata": {},
     "output_type": "execute_result"
    }
   ],
   "source": [
    "accuracy_score(pp,y_train)"
   ]
  },
  {
   "cell_type": "markdown",
   "id": "525b2302",
   "metadata": {},
   "source": [
    "* FINALLY 94% OF ACCURATLLY MY MODEL IS WORKS."
   ]
  },
  {
   "cell_type": "code",
   "execution_count": 31,
   "id": "85677a9a",
   "metadata": {},
   "outputs": [],
   "source": [
    "s = pd.DataFrame(pp)"
   ]
  },
  {
   "cell_type": "markdown",
   "id": "62427f63",
   "metadata": {},
   "source": [
    "## PREDICTING THE MODEL WITH X_TEST"
   ]
  },
  {
   "cell_type": "code",
   "execution_count": 32,
   "id": "11b452e6",
   "metadata": {},
   "outputs": [
    {
     "name": "stdout",
     "output_type": "stream",
     "text": [
      "75/75 [==============================] - 1s 6ms/step\n"
     ]
    }
   ],
   "source": [
    "p1 = model.predict(x_test)"
   ]
  },
  {
   "cell_type": "code",
   "execution_count": 33,
   "id": "b2bb5390",
   "metadata": {},
   "outputs": [
    {
     "data": {
      "text/plain": [
       "0.9295539808253439"
      ]
     },
     "execution_count": 33,
     "metadata": {},
     "output_type": "execute_result"
    }
   ],
   "source": [
    "pp1 = np.where(p1>0.5,1,0)\n",
    "accuracy_score(pp1,y_test)"
   ]
  },
  {
   "cell_type": "markdown",
   "id": "c01cc662",
   "metadata": {},
   "source": [
    "* FINALLY 93% OF ACCURATLLY MY MODEL IS WORKS ON UNSEENED DATA."
   ]
  },
  {
   "cell_type": "code",
   "execution_count": 34,
   "id": "73c43e2f",
   "metadata": {},
   "outputs": [
    {
     "name": "stdout",
     "output_type": "stream",
     "text": [
      "75/75 [==============================] - 2s 6ms/step - loss: 0.2037 - accuracy: 0.9296\n"
     ]
    },
    {
     "data": {
      "text/plain": [
       "[0.20374047756195068, 0.9295539855957031]"
      ]
     },
     "execution_count": 34,
     "metadata": {},
     "output_type": "execute_result"
    }
   ],
   "source": [
    "model.evaluate(x_test,y_test)"
   ]
  },
  {
   "cell_type": "markdown",
   "id": "9e8d383e",
   "metadata": {},
   "source": [
    "* NOTE:- IN EACH MODEL SOME ERROR IS THERE THAT MODEL IS CALLED AS \"IRREDUSABLE ERROR\""
   ]
  },
  {
   "cell_type": "code",
   "execution_count": 35,
   "id": "5f18b878",
   "metadata": {},
   "outputs": [],
   "source": [
    "trl = a.history['loss']\n",
    "cvl = a.history['val_loss']"
   ]
  },
  {
   "cell_type": "code",
   "execution_count": 36,
   "id": "17b75773",
   "metadata": {},
   "outputs": [
    {
     "data": {
      "text/plain": [
       "[<matplotlib.lines.Line2D at 0x1c218321be0>]"
      ]
     },
     "execution_count": 36,
     "metadata": {},
     "output_type": "execute_result"
    },
    {
     "data": {
      "image/png": "[encoded data removed]",
      "text/plain": [
       "<Figure size 432x288 with 1 Axes>"
      ]
     },
     "metadata": {
      "needs_background": "light"
     },
     "output_type": "display_data"
    }
   ],
   "source": [
    "plt.plot(range(1,101),trl,label = 'Training loss')\n",
    "plt.plot(range(1,101),cvl,label = 'cross_valloss')"
   ]
  },
  {
   "cell_type": "code",
   "execution_count": null,
   "id": "5f899fb5",
   "metadata": {},
   "outputs": [],
   "source": []
  }
 ],
 "metadata": {
  "kernelspec": {
   "display_name": "Python 3 (ipykernel)",
   "language": "python",
   "name": "python3"
  },
  "language_info": {
   "codemirror_mode": {
    "name": "ipython",
    "version": 3
   },
   "file_extension": ".py",
   "mimetype": "text/x-python",
   "name": "python",
   "nbconvert_exporter": "python",
   "pygments_lexer": "ipython3",
   "version": "3.9.12"
  }
 },
 "nbformat": 4,
 "nbformat_minor": 5
}
