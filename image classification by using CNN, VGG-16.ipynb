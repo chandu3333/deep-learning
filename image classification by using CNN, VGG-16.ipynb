{
 "cells": [
  {
   "cell_type": "code",
   "execution_count": 8,
   "id": "c2cefb7d",
   "metadata": {},
   "outputs": [],
   "source": [
    "import glob\n",
    "import os \n",
    "import numpy as np\n",
    "import cv2\n",
    "import mediapipe\n",
    "import pandas as pd \n",
    "import numpy as np\n",
    "import matplotlib.pyplot as plt\n",
    "import keras \n",
    "import keras_tuner\n",
    "from keras.models import Sequential\n",
    "from keras.layers import Conv2D,MaxPooling2D,Dense,Flatten,Dropout\n",
    "from keras.utils import np_utils\n",
    "import tensorflow.keras\n",
    "from keras.applications.vgg16 import VGG16\n",
    "from sklearn.model_selection import train_test_split"
   ]
  },
  {
   "cell_type": "code",
   "execution_count": 2,
   "id": "63065efb",
   "metadata": {},
   "outputs": [],
   "source": [
    "names = ['buildings','forest', 'glacier','mountain', 'sea', 'street']"
   ]
  },
  {
   "cell_type": "code",
   "execution_count": 19,
   "id": "40c8356c",
   "metadata": {},
   "outputs": [
    {
     "name": "stdout",
     "output_type": "stream",
     "text": [
      "buildings\n",
      "forest\n",
      "glacier\n",
      "mountain\n",
      "sea\n",
      "street\n"
     ]
    }
   ],
   "source": [
    "train_data = []\n",
    "train_image_names=[]\n",
    "train_labels = []\n",
    "test_data = []\n",
    "test_labels = []\n",
    "k=0\n",
    "for i in names:\n",
    "    print(i)\n",
    "    os.chdir(r'/Users/chandu/Downloads/Intel Image Classification/seg_train/seg_train/'+i+'/')\n",
    "    file_name = os.listdir()\n",
    "    train_image_names = train_image_names + file_name\n",
    "    for j in file_name:\n",
    "        img=cv2.imread(r'/Users/chandu/Downloads/Intel Image Classification/seg_train/seg_train/'+i+'/'+j)\n",
    "        img = cv2.resize(img,(100,100))\n",
    "        train_data.append(img)\n",
    "        train_labels.append(k)\n",
    "    os.chdir(r'/Users/chandu/Downloads/Intel Image Classification/seg_test/seg_test/'+i+'/')\n",
    "    file_name = os.listdir()\n",
    "    for j in file_name:\n",
    "        img=cv2.imread(r'/Users/chandu/Downloads/Intel Image Classification/seg_test/seg_test/'+i+'/'+j)\n",
    "        img = cv2.resize(img,(100,100))\n",
    "        test_data.append(img)\n",
    "        test_labels.append(k) \n",
    "    k=k+1"
   ]
  },
  {
   "cell_type": "code",
   "execution_count": 20,
   "id": "3a105f5c",
   "metadata": {},
   "outputs": [],
   "source": [
    "train_data = np.array(train_data)\n",
    "train_labels = np.array(train_labels)\n",
    "test_data = np.array(test_data)\n",
    "test_labels = np.array(test_labels)"
   ]
  },
  {
   "cell_type": "code",
   "execution_count": 21,
   "id": "75cc28e7",
   "metadata": {},
   "outputs": [],
   "source": [
    "train_data = train_data/255\n",
    "test_data = test_data/255"
   ]
  },
  {
   "cell_type": "code",
   "execution_count": 22,
   "id": "e540b9e8",
   "metadata": {},
   "outputs": [],
   "source": [
    "train_label = keras.utils.to_categorical(train_labels,dtype='float32')\n",
    "test_label = keras.utils.to_categorical(test_labels,dtype='float32')"
   ]
  },
  {
   "cell_type": "code",
   "execution_count": 9,
   "id": "43968956",
   "metadata": {},
   "outputs": [],
   "source": [
    "x_train, x_test, y_train, y_test = train_test_split(train_data,train_label,stratify=train_label,test_size=0.08,random_state=100)"
   ]
  },
  {
   "cell_type": "code",
   "execution_count": 10,
   "id": "22226de4",
   "metadata": {},
   "outputs": [
    {
     "name": "stderr",
     "output_type": "stream",
     "text": [
      "2023-04-19 00:50:53.895148: I tensorflow/core/platform/cpu_feature_guard.cc:193] This TensorFlow binary is optimized with oneAPI Deep Neural Network Library (oneDNN) to use the following CPU instructions in performance-critical operations:  SSE4.1 SSE4.2\n",
      "To enable them in other operations, rebuild TensorFlow with the appropriate compiler flags.\n"
     ]
    }
   ],
   "source": [
    "main=VGG16(include_top=False,weights='imagenet',input_shape=(100,100,3))"
   ]
  },
  {
   "cell_type": "code",
   "execution_count": 11,
   "id": "8c690433",
   "metadata": {},
   "outputs": [],
   "source": [
    "main.trainable=False"
   ]
  },
  {
   "cell_type": "code",
   "execution_count": 12,
   "id": "aa4a96e4",
   "metadata": {},
   "outputs": [],
   "source": [
    "model=Sequential()\n",
    "model.add(main)\n",
    "model.add(Flatten())\n",
    "model.add(Dense(128,activation='relu',kernel_initializer='he_uniform'))\n",
    "model.add(Dense(6,activation='softmax'))\n",
    "\n",
    "model.compile(optimizer='Adam',loss='categorical_crossentropy',metrics=['accuracy'])"
   ]
  },
  {
   "cell_type": "code",
   "execution_count": 13,
   "id": "97674926",
   "metadata": {},
   "outputs": [
    {
     "name": "stdout",
     "output_type": "stream",
     "text": [
      "Model: \"sequential\"\n",
      "_________________________________________________________________\n",
      " Layer (type)                Output Shape              Param #   \n",
      "=================================================================\n",
      " vgg16 (Functional)          (None, 3, 3, 512)         14714688  \n",
      "                                                                 \n",
      " flatten (Flatten)           (None, 4608)              0         \n",
      "                                                                 \n",
      " dense (Dense)               (None, 128)               589952    \n",
      "                                                                 \n",
      " dense_1 (Dense)             (None, 6)                 774       \n",
      "                                                                 \n",
      "=================================================================\n",
      "Total params: 15,305,414\n",
      "Trainable params: 590,726\n",
      "Non-trainable params: 14,714,688\n",
      "_________________________________________________________________\n"
     ]
    }
   ],
   "source": [
    "model.summary()"
   ]
  },
  {
   "cell_type": "code",
   "execution_count": 14,
   "id": "86275ab1",
   "metadata": {},
   "outputs": [
    {
     "name": "stdout",
     "output_type": "stream",
     "text": [
      "Epoch 1/5\n",
      "323/323 [==============================] - 1263s 4s/step - loss: 0.4860 - accuracy: 0.8219 - val_loss: 0.5100 - val_accuracy: 0.8258\n",
      "Epoch 2/5\n",
      "323/323 [==============================] - 1273s 4s/step - loss: 0.3205 - accuracy: 0.8842 - val_loss: 0.4299 - val_accuracy: 0.8482\n",
      "Epoch 3/5\n",
      "323/323 [==============================] - 1259s 4s/step - loss: 0.2581 - accuracy: 0.9082 - val_loss: 0.3761 - val_accuracy: 0.8695\n",
      "Epoch 4/5\n",
      "323/323 [==============================] - 1256s 4s/step - loss: 0.2207 - accuracy: 0.9169 - val_loss: 0.4498 - val_accuracy: 0.8494\n",
      "Epoch 5/5\n",
      "323/323 [==============================] - 1368s 4s/step - loss: 0.1915 - accuracy: 0.9313 - val_loss: 0.3956 - val_accuracy: 0.8691\n"
     ]
    },
    {
     "data": {
      "text/plain": [
       "<keras.callbacks.History at 0x1bfd33550>"
      ]
     },
     "execution_count": 14,
     "metadata": {},
     "output_type": "execute_result"
    }
   ],
   "source": [
    "model.fit(x_train,y_train,batch_size=32,epochs=5,validation_split=0.20)"
   ]
  },
  {
   "cell_type": "code",
   "execution_count": 15,
   "id": "291dd129",
   "metadata": {},
   "outputs": [
    {
     "name": "stdout",
     "output_type": "stream",
     "text": [
      "36/36 [==============================] - 120s 3s/step - loss: 0.4155 - accuracy: 0.8629\n"
     ]
    },
    {
     "data": {
      "text/plain": [
       "[0.41547420620918274, 0.8628672957420349]"
      ]
     },
     "execution_count": 15,
     "metadata": {},
     "output_type": "execute_result"
    }
   ],
   "source": [
    "model.evaluate(x_test,y_test)"
   ]
  },
  {
   "cell_type": "code",
   "execution_count": 16,
   "id": "fcad9c34",
   "metadata": {},
   "outputs": [
    {
     "name": "stdout",
     "output_type": "stream",
     "text": [
      "439/439 [==============================] - 1493s 3s/step\n"
     ]
    },
    {
     "data": {
      "text/plain": [
       "array([[9.0356332e-01, 3.7617497e-03, 6.3410148e-02, 9.6321088e-04,\n",
       "        5.4744673e-03, 2.2827022e-02],\n",
       "       [9.9999976e-01, 4.3209490e-13, 1.2857336e-07, 3.4587875e-09,\n",
       "        1.3289987e-07, 4.4925556e-12],\n",
       "       [9.9809152e-01, 1.1808969e-07, 3.0800340e-06, 1.0927095e-07,\n",
       "        8.3854084e-06, 1.8967028e-03],\n",
       "       ...,\n",
       "       [8.0357008e-02, 1.9014433e-08, 5.3638560e-05, 2.9117550e-06,\n",
       "        3.1459865e-06, 9.1958332e-01],\n",
       "       [1.8389991e-02, 3.2299390e-08, 4.2773976e-05, 1.7765377e-07,\n",
       "        3.9744205e-06, 9.8156309e-01],\n",
       "       [2.0206792e-06, 2.3531188e-09, 1.2259523e-04, 9.9303315e-06,\n",
       "        9.9359916e-09, 9.9986541e-01]], dtype=float32)"
      ]
     },
     "execution_count": 16,
     "metadata": {},
     "output_type": "execute_result"
    }
   ],
   "source": [
    "y_train_pred = model.predict(train_data)\n",
    "y_train_pred"
   ]
  },
  {
   "cell_type": "code",
   "execution_count": 17,
   "id": "1331e6c4",
   "metadata": {},
   "outputs": [],
   "source": [
    "y_pred_classes=[np.argmax(i) for i in y_train_pred] "
   ]
  },
  {
   "cell_type": "code",
   "execution_count": 23,
   "id": "285cfd3e",
   "metadata": {},
   "outputs": [],
   "source": [
    "pd.DataFrame([train_image_names,y_pred_classes]).T.to_csv(r'/Users/vamsi/Downloads/vgg16_without_tunning.csv')"
   ]
  },
  {
   "cell_type": "code",
   "execution_count": null,
   "id": "ecc3ef7a",
   "metadata": {},
   "outputs": [],
   "source": []
  }
 ],
 "metadata": {
  "kernelspec": {
   "display_name": "Python 3 (ipykernel)",
   "language": "python",
   "name": "python3"
  },
  "language_info": {
   "codemirror_mode": {
    "name": "ipython",
    "version": 3
   },
   "file_extension": ".py",
   "mimetype": "text/x-python",
   "name": "python",
   "nbconvert_exporter": "python",
   "pygments_lexer": "ipython3",
   "version": "3.9.12"
  }
 },
 "nbformat": 4,
 "nbformat_minor": 5
}
