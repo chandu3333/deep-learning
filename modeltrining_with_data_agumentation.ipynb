{
 "cells": [
  {
   "cell_type": "code",
   "execution_count": 1,
   "id": "e17703b3",
   "metadata": {},
   "outputs": [],
   "source": [
    "import numpy as np\n",
    "from keras.models import Sequential\n",
    "from keras.layers import Dense,Activation,Flatten,Dropout\n",
    "from keras.layers import Conv2D,MaxPooling2D\n",
    "\n",
    "from keras.preprocessing.image import ImageDataGenerator\n",
    "import matplotlib.pyplot as plt\n",
    "import cv2"
   ]
  },
  {
   "cell_type": "markdown",
   "id": "0cbc2b04",
   "metadata": {},
   "source": [
    "## creating the image data generator object, data generator"
   ]
  },
  {
   "cell_type": "code",
   "execution_count": 2,
   "id": "e1268f1f",
   "metadata": {},
   "outputs": [
    {
     "name": "stdout",
     "output_type": "stream",
     "text": [
      "Found 5000 images belonging to 2 classes.\n",
      "Found 2553 images belonging to 2 classes.\n"
     ]
    }
   ],
   "source": [
    "train_data = ImageDataGenerator(\n",
    "rescale=1./255,\n",
    "rotation_range=20,\n",
    "shear_range=0.2,\n",
    "zoom_range=0.2\n",
    ") # image data generator object\n",
    "\n",
    "train_gen = train_data.flow_from_directory(\n",
    "r\"C:\\Users\\HP\\Desktop\\CNN_Articels_clean_2\\mask\\data\\da\\train\",\n",
    "target_size=(200,200),\n",
    "batch_size=16,\n",
    "class_mode=\"categorical\") # image data generator\n",
    "\n",
    "validation_data = ImageDataGenerator(rescale=1./255)\n",
    "\n",
    "validation_gen = validation_data.flow_from_directory(\n",
    "r\"C:\\Users\\HP\\Desktop\\CNN_Articels_clean_2\\mask\\data\\da\\validation\",\n",
    "    \n",
    "target_size=(200,200),\n",
    "batch_size=16,\n",
    "class_mode=\"categorical\")"
   ]
  },
  {
   "cell_type": "code",
   "execution_count": 10,
   "id": "e8a56ca9",
   "metadata": {},
   "outputs": [
    {
     "name": "stdout",
     "output_type": "stream",
     "text": [
      "Model: \"sequential_2\"\n",
      "_________________________________________________________________\n",
      " Layer (type)                Output Shape              Param #   \n",
      "=================================================================\n",
      " conv2d_6 (Conv2D)           (None, 198, 198, 20)      560       \n",
      "                                                                 \n",
      " max_pooling2d_4 (MaxPooling  (None, 99, 99, 20)       0         \n",
      " 2D)                                                             \n",
      "                                                                 \n",
      " conv2d_7 (Conv2D)           (None, 99, 99, 10)        5010      \n",
      "                                                                 \n",
      " max_pooling2d_5 (MaxPooling  (None, 49, 49, 10)       0         \n",
      " 2D)                                                             \n",
      "                                                                 \n",
      " conv2d_8 (Conv2D)           (None, 45, 45, 60)        15060     \n",
      "                                                                 \n",
      " flatten_2 (Flatten)         (None, 121500)            0         \n",
      "                                                                 \n",
      " dense_4 (Dense)             (None, 60)                7290060   \n",
      "                                                                 \n",
      " dense_5 (Dense)             (None, 2)                 122       \n",
      "                                                                 \n",
      "=================================================================\n",
      "Total params: 7,310,812\n",
      "Trainable params: 7,310,812\n",
      "Non-trainable params: 0\n",
      "_________________________________________________________________\n"
     ]
    }
   ],
   "source": [
    "model = Sequential()\n",
    "\n",
    "model.add(Conv2D(20,(3,3),padding=\"valid\",activation=\"relu\",input_shape=(200,200,3)))\n",
    "model.add(MaxPooling2D(pool_size=(2,2)))\n",
    "\n",
    "model.add(Conv2D(10,(5,5),padding=\"same\",activation=\"relu\"))\n",
    "model.add(MaxPooling2D(pool_size=(2,2)))\n",
    "\n",
    "model.add(Conv2D(60,(5,5),activation=\"relu\"))\n",
    "\n",
    "model.add(Flatten())\n",
    "\n",
    "model.add(Dense(60,activation=\"relu\"))\n",
    "\n",
    "model.add(Dense(2,activation=\"softmax\"))\n",
    "\n",
    "model.summary()"
   ]
  },
  {
   "cell_type": "code",
   "execution_count": 11,
   "id": "6bdb8598",
   "metadata": {},
   "outputs": [],
   "source": [
    "model.compile(optimizer=\"Adam\",loss=\"categorical_crossentropy\",metrics = [\"accuracy\"])"
   ]
  },
  {
   "cell_type": "code",
   "execution_count": 12,
   "id": "edd75f58",
   "metadata": {},
   "outputs": [
    {
     "name": "stderr",
     "output_type": "stream",
     "text": [
      "C:\\Users\\HP\\AppData\\Local\\Temp\\ipykernel_6556\\967330299.py:1: UserWarning: `Model.fit_generator` is deprecated and will be removed in a future version. Please use `Model.fit`, which supports generators.\n",
      "  model.fit_generator(train_gen,\n"
     ]
    },
    {
     "name": "stdout",
     "output_type": "stream",
     "text": [
      "Epoch 1/3\n",
      "312/312 [==============================] - 323s 1s/step - loss: 15.3820 - accuracy: 0.6398 - val_loss: 0.6972 - val_accuracy: 0.5200\n",
      "Epoch 2/3\n",
      "312/312 [==============================] - 537s 2s/step - loss: 0.6095 - accuracy: 0.6916 - val_loss: 0.7213 - val_accuracy: 0.5216\n",
      "Epoch 3/3\n",
      "312/312 [==============================] - 389s 1s/step - loss: 0.5867 - accuracy: 0.7269 - val_loss: 0.7471 - val_accuracy: 0.5200\n"
     ]
    },
    {
     "data": {
      "text/plain": [
       "<keras.callbacks.History at 0x2963be0da30>"
      ]
     },
     "execution_count": 12,
     "metadata": {},
     "output_type": "execute_result"
    }
   ],
   "source": [
    "model.fit_generator(train_gen,\n",
    "steps_per_epoch=5000//16,\n",
    "epochs=3,\n",
    "validation_data=validation_gen,\n",
    "validation_steps=2553//16)"
   ]
  },
  {
   "cell_type": "code",
   "execution_count": null,
   "id": "056ade8c",
   "metadata": {},
   "outputs": [],
   "source": [
    "model.evaluate_generator()"
   ]
  }
 ],
 "metadata": {
  "kernelspec": {
   "display_name": "Python 3 (ipykernel)",
   "language": "python",
   "name": "python3"
  },
  "language_info": {
   "codemirror_mode": {
    "name": "ipython",
    "version": 3
   },
   "file_extension": ".py",
   "mimetype": "text/x-python",
   "name": "python",
   "nbconvert_exporter": "python",
   "pygments_lexer": "ipython3",
   "version": "3.9.12"
  }
 },
 "nbformat": 4,
 "nbformat_minor": 5
}
