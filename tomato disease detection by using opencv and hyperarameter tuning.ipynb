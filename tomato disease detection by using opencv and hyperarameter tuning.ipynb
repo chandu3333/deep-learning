{
 "cells": [
  {
   "cell_type": "markdown",
   "id": "9f13baa0",
   "metadata": {},
   "source": [
    "## importing all the libraries"
   ]
  },
  {
   "cell_type": "code",
   "execution_count": 1,
   "id": "a956eb34",
   "metadata": {},
   "outputs": [],
   "source": [
    "import os\n",
    "import random as rd\n",
    "import glob\n",
    "import numpy as np\n",
    "import cv2\n",
    "import keras_tuner\n",
    "from sklearn.metrics import accuracy_score\n",
    "from keras import Sequential\n",
    "from keras.layers import Dense,Dropout,BatchNormalization,Conv2D,MaxPooling2D,AveragePooling3D,Flatten"
   ]
  },
  {
   "cell_type": "markdown",
   "id": "43dadbdd",
   "metadata": {},
   "source": [
    "## accssing the paths of images with help of globe library"
   ]
  },
  {
   "cell_type": "code",
   "execution_count": 2,
   "id": "3d16fd33",
   "metadata": {},
   "outputs": [],
   "source": [
    "Bacterial_spot = glob.glob(r\"C:\\Users\\HP\\Desktop\\tomato\\train\\Tomato___Bacterial_spot/*.*\")\n",
    "Early_blight = glob.glob(r\"C:\\Users\\HP\\Desktop\\tomato\\train\\Tomato___Early_blight/*.*\")\n",
    "healthy = glob.glob(r\"C:\\Users\\HP\\Desktop\\tomato\\train\\Tomato___healthy/*.*\")\n",
    "Late_blight = glob.glob(r\"C:\\Users\\HP\\Desktop\\tomato\\train\\Tomato___Late_blight/*.*\")\n",
    "Leaf_Mold = glob.glob(r\"C:\\Users\\HP\\Desktop\\tomato\\train\\Tomato___Leaf_Mold/*.*\")\n",
    "Septoria_leaf_spot = glob.glob(r\"C:\\Users\\HP\\Desktop\\tomato\\train\\Tomato___Septoria_leaf_spot/*.*\")\n",
    "Spider_mites = glob.glob(r\"C:\\Users\\HP\\Desktop\\tomato\\train\\Tomato___Spider_mites/*.*\")\n",
    "Target_Spot = glob.glob(r\"C:\\Users\\HP\\Desktop\\tomato\\train\\Tomato___Target_Spot/*.*\")\n",
    "Tomato_mosaic_virus = glob.glob(r\"C:\\Users\\HP\\Desktop\\tomato\\train\\Tomato___Tomato_mosaic_virus/*.*\")\n",
    "Tomato_Yellow_Leaf_Curl_Virus = glob.glob(r\"C:\\Users\\HP\\Desktop\\tomato\\train\\Tomato___Tomato_Yellow_Leaf_Curl_Virus/*.*\")"
   ]
  },
  {
   "cell_type": "code",
   "execution_count": 3,
   "id": "797f1f0f",
   "metadata": {},
   "outputs": [
    {
     "name": "stdout",
     "output_type": "stream",
     "text": [
      "1000\n",
      "1000\n",
      "1000\n",
      "1000\n",
      "1000\n",
      "1000\n",
      "1000\n",
      "1000\n",
      "1000\n",
      "1000\n"
     ]
    }
   ],
   "source": [
    "print(len(Bacterial_spot))\n",
    "print(len(Early_blight))\n",
    "print(len(healthy))\n",
    "print(len(Late_blight))\n",
    "print(len(Leaf_Mold))\n",
    "print(len(Septoria_leaf_spot))\n",
    "print(len(Spider_mites))\n",
    "print(len(Target_Spot))\n",
    "print(len(Tomato_mosaic_virus))\n",
    "print(len(Tomato_Yellow_Leaf_Curl_Virus))"
   ]
  },
  {
   "cell_type": "code",
   "execution_count": 4,
   "id": "2b745ad4",
   "metadata": {},
   "outputs": [
    {
     "data": {
      "text/plain": [
       "'C:\\\\Users\\\\HP\\\\Desktop\\\\tomato\\\\train\\\\Tomato___Bacterial_spot\\\\00416648-be6e-4bd4-bc8d-82f43f8a7240___GCREC_Bact.Sp 3110.JPG'"
      ]
     },
     "execution_count": 4,
     "metadata": {},
     "output_type": "execute_result"
    }
   ],
   "source": [
    "Bacterial_spot[0]"
   ]
  },
  {
   "cell_type": "code",
   "execution_count": 5,
   "id": "28aa3add",
   "metadata": {},
   "outputs": [],
   "source": [
    "img = cv2.imread(Bacterial_spot[0])\n",
    "cv2.imshow(\"img\",img)\n",
    "cv2.waitKey(0)\n",
    "cv2.destroyAllWindows()"
   ]
  },
  {
   "cell_type": "code",
   "execution_count": 6,
   "id": "c5b11f8f",
   "metadata": {},
   "outputs": [
    {
     "data": {
      "text/plain": [
       "(256, 256, 3)"
      ]
     },
     "execution_count": 6,
     "metadata": {},
     "output_type": "execute_result"
    }
   ],
   "source": [
    "img.shape"
   ]
  },
  {
   "cell_type": "markdown",
   "id": "d1be4481",
   "metadata": {},
   "source": [
    "## reading and saving the image data in 'array format with labels'"
   ]
  },
  {
   "cell_type": "code",
   "execution_count": 7,
   "id": "2221cb59",
   "metadata": {},
   "outputs": [],
   "source": [
    "data = []\n",
    "labels = []\n",
    "\n",
    "for i in Bacterial_spot:\n",
    "    img = cv2.imread(i)\n",
    "    img = cv2.resize(img, (100,100))\n",
    "    data.append(img)\n",
    "    labels.append(0)\n",
    "    \n",
    "for j in Early_blight:\n",
    "    img1 = cv2.imread(j)\n",
    "    img1 = cv2.resize(img1, (100,100))\n",
    "    data.append(img1)\n",
    "    labels.append(1)\n",
    "\n",
    "for k in healthy:\n",
    "    img2 = cv2.imread(k)\n",
    "    img2 = cv2.resize(img2, (100,100))\n",
    "    data.append(img2)\n",
    "    labels.append(2)\n",
    "    \n",
    "for l in Late_blight:\n",
    "    img3 = cv2.imread(l)\n",
    "    img3 = cv2.resize(img3, (100,100))\n",
    "    data.append(img3)\n",
    "    labels.append(3)\n",
    "\n",
    "for m in Leaf_Mold:\n",
    "    img4 = cv2.imread(m)\n",
    "    img4 = cv2.resize(img4, (100,100))\n",
    "    data.append(img4)\n",
    "    labels.append(4)\n",
    "    \n",
    "for n in Septoria_leaf_spot:\n",
    "    img5 = cv2.imread(n)\n",
    "    img5 = cv2.resize(img5, (100,100))\n",
    "    data.append(img5)\n",
    "    labels.append(5)\n",
    "\n",
    "for p in Spider_mites:\n",
    "    img6 = cv2.imread(p)\n",
    "    img6 = cv2.resize(img6, (100,100))\n",
    "    data.append(img6)\n",
    "    labels.append(6)\n",
    "    \n",
    "for a in Target_Spot:\n",
    "    img7 = cv2.imread(a)\n",
    "    img7 = cv2.resize(img7, (100,100))\n",
    "    data.append(img7)\n",
    "    labels.append(7)\n",
    "\n",
    "for b in Tomato_mosaic_virus:\n",
    "    img8 = cv2.imread(b)\n",
    "    img8 = cv2.resize(img8, (100,100))\n",
    "    data.append(img8)\n",
    "    labels.append(8)\n",
    "    \n",
    "for d in Tomato_Yellow_Leaf_Curl_Virus:\n",
    "    img9 = cv2.imread(d)\n",
    "    img9 = cv2.resize(img9, (100,100))\n",
    "    data.append(img9)\n",
    "    labels.append(9)"
   ]
  },
  {
   "cell_type": "markdown",
   "id": "77a187ec",
   "metadata": {},
   "source": [
    "* in this dataset total 10 classes are there"
   ]
  },
  {
   "cell_type": "code",
   "execution_count": 8,
   "id": "58ca75eb",
   "metadata": {},
   "outputs": [
    {
     "data": {
      "text/plain": [
       "(100, 100, 3)"
      ]
     },
     "execution_count": 8,
     "metadata": {},
     "output_type": "execute_result"
    }
   ],
   "source": [
    "data[0].shape"
   ]
  },
  {
   "cell_type": "markdown",
   "id": "e74b4001",
   "metadata": {},
   "source": [
    "## to cross check the image with labels"
   ]
  },
  {
   "cell_type": "code",
   "execution_count": 9,
   "id": "8cad87be",
   "metadata": {},
   "outputs": [
    {
     "name": "stdout",
     "output_type": "stream",
     "text": [
      "4\n"
     ]
    }
   ],
   "source": [
    "cv2.imshow(\"img\",data[4100])\n",
    "cv2.waitKey(0)\n",
    "cv2.destroyAllWindows()\n",
    "print(labels[4100])"
   ]
  },
  {
   "cell_type": "code",
   "execution_count": 10,
   "id": "0c62040c",
   "metadata": {},
   "outputs": [
    {
     "data": {
      "text/plain": [
       "4"
      ]
     },
     "execution_count": 10,
     "metadata": {},
     "output_type": "execute_result"
    }
   ],
   "source": [
    "labels[4100]"
   ]
  },
  {
   "cell_type": "markdown",
   "id": "5d59c424",
   "metadata": {},
   "source": [
    "## splitting the dataset into d_train, d_test"
   ]
  },
  {
   "cell_type": "code",
   "execution_count": 11,
   "id": "91733321",
   "metadata": {},
   "outputs": [],
   "source": [
    "from sklearn.model_selection import train_test_split"
   ]
  },
  {
   "cell_type": "code",
   "execution_count": 12,
   "id": "7e107637",
   "metadata": {},
   "outputs": [],
   "source": [
    "x_train,x_test,y_train,y_test = train_test_split(np.array(data),np.array(labels),test_size=0.3)"
   ]
  },
  {
   "cell_type": "code",
   "execution_count": 13,
   "id": "85c9f413",
   "metadata": {},
   "outputs": [
    {
     "data": {
      "text/plain": [
       "(7000, 100, 100, 3)"
      ]
     },
     "execution_count": 13,
     "metadata": {},
     "output_type": "execute_result"
    }
   ],
   "source": [
    "x_train.shape"
   ]
  },
  {
   "cell_type": "code",
   "execution_count": 14,
   "id": "6a448804",
   "metadata": {},
   "outputs": [
    {
     "data": {
      "text/plain": [
       "(7000,)"
      ]
     },
     "execution_count": 14,
     "metadata": {},
     "output_type": "execute_result"
    }
   ],
   "source": [
    "y_train.shape"
   ]
  },
  {
   "cell_type": "markdown",
   "id": "aa6568da",
   "metadata": {},
   "source": [
    "## applying class separtion on class labels (like one hot encoding)"
   ]
  },
  {
   "cell_type": "code",
   "execution_count": 15,
   "id": "a690da3e",
   "metadata": {},
   "outputs": [],
   "source": [
    "import keras.utils\n",
    "from sklearn.preprocessing import StandardScaler,MinMaxScaler"
   ]
  },
  {
   "cell_type": "markdown",
   "id": "70d111fd",
   "metadata": {},
   "source": [
    "## Normalize the data"
   ]
  },
  {
   "cell_type": "code",
   "execution_count": 16,
   "id": "fef60f71",
   "metadata": {},
   "outputs": [],
   "source": [
    "x_trains = x_train/255\n",
    "x_tests = x_test/255"
   ]
  },
  {
   "cell_type": "code",
   "execution_count": 17,
   "id": "e82c3f76",
   "metadata": {},
   "outputs": [],
   "source": [
    "y_trainf = keras.utils.to_categorical(y_train,dtype='int')\n",
    "y_testf = keras.utils.to_categorical(y_test,dtype='int')"
   ]
  },
  {
   "cell_type": "code",
   "execution_count": 18,
   "id": "3745ea6b",
   "metadata": {},
   "outputs": [
    {
     "data": {
      "text/plain": [
       "(7000, 10)"
      ]
     },
     "execution_count": 18,
     "metadata": {},
     "output_type": "execute_result"
    }
   ],
   "source": [
    "y_trainf.shape"
   ]
  },
  {
   "cell_type": "code",
   "execution_count": 19,
   "id": "6f31c0af",
   "metadata": {},
   "outputs": [
    {
     "data": {
      "text/plain": [
       "array([0, 0, 0, 0, 0, 0, 0, 1, 0, 0])"
      ]
     },
     "execution_count": 19,
     "metadata": {},
     "output_type": "execute_result"
    }
   ],
   "source": [
    "y_trainf[0]"
   ]
  },
  {
   "cell_type": "code",
   "execution_count": 20,
   "id": "bf0b89a0",
   "metadata": {},
   "outputs": [
    {
     "data": {
      "text/plain": [
       "(3000, 10)"
      ]
     },
     "execution_count": 20,
     "metadata": {},
     "output_type": "execute_result"
    }
   ],
   "source": [
    "y_testf.shape"
   ]
  },
  {
   "cell_type": "code",
   "execution_count": 21,
   "id": "f2f68c3a",
   "metadata": {},
   "outputs": [
    {
     "data": {
      "text/plain": [
       "array([0, 0, 0, 0, 0, 1, 0, 0, 0, 0])"
      ]
     },
     "execution_count": 21,
     "metadata": {},
     "output_type": "execute_result"
    }
   ],
   "source": [
    "y_testf[0]"
   ]
  },
  {
   "cell_type": "code",
   "execution_count": 22,
   "id": "be64f431",
   "metadata": {},
   "outputs": [],
   "source": [
    "#y_trainf = y_trainf[:,1:]"
   ]
  },
  {
   "cell_type": "markdown",
   "id": "c7307a9e",
   "metadata": {},
   "source": [
    "## creating the cnn architechture"
   ]
  },
  {
   "cell_type": "code",
   "execution_count": 23,
   "id": "666fbfea",
   "metadata": {},
   "outputs": [
    {
     "name": "stdout",
     "output_type": "stream",
     "text": [
      "Model: \"sequential\"\n",
      "_________________________________________________________________\n",
      " Layer (type)                Output Shape              Param #   \n",
      "=================================================================\n",
      " conv2d (Conv2D)             (None, 96, 96, 30)        2280      \n",
      "                                                                 \n",
      " max_pooling2d (MaxPooling2D  (None, 48, 48, 30)       0         \n",
      " )                                                               \n",
      "                                                                 \n",
      " conv2d_1 (Conv2D)           (None, 44, 44, 60)        45060     \n",
      "                                                                 \n",
      " flatten (Flatten)           (None, 116160)            0         \n",
      "                                                                 \n",
      " dense (Dense)               (None, 60)                6969660   \n",
      "                                                                 \n",
      " dense_1 (Dense)             (None, 40)                2440      \n",
      "                                                                 \n",
      " dense_2 (Dense)             (None, 10)                410       \n",
      "                                                                 \n",
      "=================================================================\n",
      "Total params: 7,019,850\n",
      "Trainable params: 7,019,850\n",
      "Non-trainable params: 0\n",
      "_________________________________________________________________\n"
     ]
    }
   ],
   "source": [
    "model = Sequential()\n",
    "\n",
    "model.add(Conv2D(30,(5,5),padding=\"valid\",activation=\"relu\",input_shape=(100,100,3)))\n",
    "model.add(MaxPooling2D(pool_size=(2,2)))\n",
    "\n",
    "model.add(Conv2D(60,(5,5),activation=\"relu\"))\n",
    "\n",
    "model.add(Flatten())\n",
    "\n",
    "model.add(Dense(60,activation=\"relu\"))\n",
    "\n",
    "model.add(Dense(40,activation=\"relu\"))\n",
    "\n",
    "model.add(Dense(10,activation=\"softmax\"))\n",
    "\n",
    "model.summary()"
   ]
  },
  {
   "cell_type": "markdown",
   "id": "c4c0af75",
   "metadata": {},
   "source": [
    "## compiling the model"
   ]
  },
  {
   "cell_type": "code",
   "execution_count": 24,
   "id": "107bf51d",
   "metadata": {},
   "outputs": [],
   "source": [
    "model.compile(optimizer=\"Adam\",loss=\"categorical_crossentropy\",metrics=[\"accuracy\"])"
   ]
  },
  {
   "cell_type": "code",
   "execution_count": 26,
   "id": "1e024e29",
   "metadata": {},
   "outputs": [
    {
     "name": "stdout",
     "output_type": "stream",
     "text": [
      "Epoch 1/3\n",
      "560/560 [==============================] - 144s 255ms/step - loss: 2.2857 - accuracy: 0.1289 - val_loss: 2.2370 - val_accuracy: 0.1986\n",
      "Epoch 2/3\n",
      "560/560 [==============================] - 148s 265ms/step - loss: 2.0832 - accuracy: 0.2655 - val_loss: 1.8179 - val_accuracy: 0.3700\n",
      "Epoch 3/3\n",
      "560/560 [==============================] - 157s 281ms/step - loss: 1.5752 - accuracy: 0.4538 - val_loss: 1.4809 - val_accuracy: 0.4764\n"
     ]
    }
   ],
   "source": [
    "s = model.fit(x_trains,y_trainf,batch_size=10,epochs=3,verbose=1,validation_split=0.2)"
   ]
  },
  {
   "cell_type": "markdown",
   "id": "9621ce85",
   "metadata": {},
   "source": [
    "## building the architechture for hyperparameter tuning"
   ]
  },
  {
   "cell_type": "code",
   "execution_count": 27,
   "id": "ee193ce7",
   "metadata": {},
   "outputs": [],
   "source": [
    "def models(ob3):\n",
    "    model3 = Sequential()\n",
    "    x=0\n",
    "    for i in range(ob3.Int(\"layer\",2,10)):\n",
    "        if x==0:\n",
    "            model3.add(Conv2D(ob3.Int(\"filters \"+str(x),1,50),kernel_size = ob3.Choice(\"kernal_size\",values=[2,3]),activation=ob3.Choice(\"act\",values=[\"sigmoid\",\"relu\",\"tanh\"]),input_shape=(100,100,3)))\n",
    "        else:\n",
    "            model3.add(Conv2D(ob3.Int(\"filters2 \"+str(i),1,50),kernel_size = ob3.Choice(\"kernal_size\",values=[2,3]),activation=ob3.Choice(\"act\",values=[\"sigmoid\",\"relu\",\"tanh\"])))\n",
    "        x=x+1\n",
    "    y=0 \n",
    "    model3.add(Flatten())\n",
    "    for j in range(ob3.Int(\"layers\",2,10)):\n",
    "     \n",
    "        if y==0:\n",
    "            model3.add(Dense(ob3.Int(\"neuron \"+str(y),1,50),activation=ob3.Choice(\"act\",values=[\"sigmoid\",\"relu\",\"tanh\"])))\n",
    "            model3.add(Dropout(ob3.Choice(\"Droupout\",values=[0.2,0.3,0.4,0.5,0.6,0.7,0.8,0.9])))\n",
    "        else :\n",
    "            model3.add(Dense(ob3.Int(\"neuron \"+str(j),1,50),activation=ob3.Choice(\"act\",values=[\"sigmoid\",\"relu\",\"tanh\"])))\n",
    "        y=y+1\n",
    "        \n",
    "    model3.add(Dense(10,activation=\"softmax\"))\n",
    "    model3.compile(optimizer=ob3.Choice(\"opt\",values=[\"rmsprop\",\"Adam\",\"adagrad\",\"sgd\"]),loss=\"categorical_crossentropy\",metrics=[\"accuracy\"])\n",
    "    \n",
    "    return model3"
   ]
  },
  {
   "cell_type": "code",
   "execution_count": 28,
   "id": "e5ec48ad",
   "metadata": {},
   "outputs": [],
   "source": [
    "ktt = keras_tuner.RandomSearch(models,objective=\"val_accuracy\",max_trials=5,directory=r\"C:\\Users\\HP\\Desktop\\xx\\21\")"
   ]
  },
  {
   "cell_type": "code",
   "execution_count": 29,
   "id": "571b7e5e",
   "metadata": {},
   "outputs": [
    {
     "name": "stdout",
     "output_type": "stream",
     "text": [
      "Trial 5 Complete [00h 42m 51s]\n",
      "val_accuracy: 0.46700000762939453\n",
      "\n",
      "Best val_accuracy So Far: 0.46700000762939453\n",
      "Total elapsed time: 13h 38m 23s\n",
      "INFO:tensorflow:Oracle triggered exit\n"
     ]
    }
   ],
   "source": [
    "ktt.search(x_trains,y_trainf,epochs=6,validation_data=(x_trains,y_trainf))"
   ]
  },
  {
   "cell_type": "code",
   "execution_count": 30,
   "id": "41e20b98",
   "metadata": {},
   "outputs": [
    {
     "data": {
      "text/plain": [
       "{'layer': 4,\n",
       " 'filters 0': 44,\n",
       " 'kernal_size': 3,\n",
       " 'act': 'relu',\n",
       " 'filters2 1': 28,\n",
       " 'layers': 2,\n",
       " 'neuron 0': 44,\n",
       " 'Droupout': 0.7,\n",
       " 'neuron 1': 42,\n",
       " 'opt': 'sgd',\n",
       " 'filters2 2': 42,\n",
       " 'filters2 3': 13,\n",
       " 'neuron 2': 28,\n",
       " 'neuron 3': 47,\n",
       " 'neuron 4': 8,\n",
       " 'neuron 5': 1,\n",
       " 'neuron 6': 11,\n",
       " 'neuron 7': 6,\n",
       " 'neuron 8': 8,\n",
       " 'neuron 9': 20,\n",
       " 'filters2 4': 30}"
      ]
     },
     "execution_count": 30,
     "metadata": {},
     "output_type": "execute_result"
    }
   ],
   "source": [
    "ktt.get_best_hyperparameters()[0].values"
   ]
  },
  {
   "cell_type": "markdown",
   "id": "0e3a8c22",
   "metadata": {},
   "source": [
    "* these are the best hyper parameters to my model"
   ]
  },
  {
   "cell_type": "markdown",
   "id": "26a96163",
   "metadata": {},
   "source": [
    "## finding the best model from the no of models"
   ]
  },
  {
   "cell_type": "code",
   "execution_count": 31,
   "id": "baf3be7c",
   "metadata": {},
   "outputs": [],
   "source": [
    "m=ktt.get_best_models(num_models=1)[0]"
   ]
  },
  {
   "cell_type": "code",
   "execution_count": 32,
   "id": "77e42d79",
   "metadata": {},
   "outputs": [
    {
     "name": "stdout",
     "output_type": "stream",
     "text": [
      "Model: \"sequential\"\n",
      "_________________________________________________________________\n",
      " Layer (type)                Output Shape              Param #   \n",
      "=================================================================\n",
      " conv2d (Conv2D)             (None, 98, 98, 44)        1232      \n",
      "                                                                 \n",
      " conv2d_1 (Conv2D)           (None, 96, 96, 28)        11116     \n",
      "                                                                 \n",
      " conv2d_2 (Conv2D)           (None, 94, 94, 42)        10626     \n",
      "                                                                 \n",
      " conv2d_3 (Conv2D)           (None, 92, 92, 13)        4927      \n",
      "                                                                 \n",
      " flatten (Flatten)           (None, 110032)            0         \n",
      "                                                                 \n",
      " dense (Dense)               (None, 44)                4841452   \n",
      "                                                                 \n",
      " dropout (Dropout)           (None, 44)                0         \n",
      "                                                                 \n",
      " dense_1 (Dense)             (None, 42)                1890      \n",
      "                                                                 \n",
      " dense_2 (Dense)             (None, 10)                430       \n",
      "                                                                 \n",
      "=================================================================\n",
      "Total params: 4,871,673\n",
      "Trainable params: 4,871,673\n",
      "Non-trainable params: 0\n",
      "_________________________________________________________________\n"
     ]
    }
   ],
   "source": [
    "m.summary()"
   ]
  },
  {
   "cell_type": "markdown",
   "id": "8bd9e5a0",
   "metadata": {},
   "source": [
    "* this is all about the summary of the best model"
   ]
  },
  {
   "cell_type": "markdown",
   "id": "a4d55fe0",
   "metadata": {},
   "source": [
    "## fitting or training the model"
   ]
  },
  {
   "cell_type": "code",
   "execution_count": 33,
   "id": "868bd33d",
   "metadata": {
    "scrolled": false
   },
   "outputs": [
    {
     "name": "stdout",
     "output_type": "stream",
     "text": [
      "Epoch 7/50\n",
      "560/560 [==============================] - 303s 536ms/step - loss: 2.0209 - accuracy: 0.2607 - val_loss: 2.1055 - val_accuracy: 0.3043\n",
      "Epoch 8/50\n",
      "560/560 [==============================] - 305s 544ms/step - loss: 1.9538 - accuracy: 0.2893 - val_loss: 1.8532 - val_accuracy: 0.4000\n",
      "Epoch 9/50\n",
      "560/560 [==============================] - 296s 529ms/step - loss: 1.8849 - accuracy: 0.3164 - val_loss: 1.6508 - val_accuracy: 0.5086\n",
      "Epoch 10/50\n",
      "560/560 [==============================] - 295s 527ms/step - loss: 1.7810 - accuracy: 0.3520 - val_loss: 1.4404 - val_accuracy: 0.5371\n",
      "Epoch 11/50\n",
      "560/560 [==============================] - 293s 523ms/step - loss: 1.7474 - accuracy: 0.3673 - val_loss: 1.4362 - val_accuracy: 0.5371\n",
      "Epoch 12/50\n",
      "560/560 [==============================] - 292s 521ms/step - loss: 1.7059 - accuracy: 0.3861 - val_loss: 1.3846 - val_accuracy: 0.5550\n",
      "Epoch 13/50\n",
      "560/560 [==============================] - 294s 525ms/step - loss: 1.7617 - accuracy: 0.3645 - val_loss: 1.5517 - val_accuracy: 0.5414\n",
      "Epoch 14/50\n",
      "560/560 [==============================] - 293s 523ms/step - loss: 1.6636 - accuracy: 0.3954 - val_loss: 1.4061 - val_accuracy: 0.5579\n",
      "Epoch 15/50\n",
      "560/560 [==============================] - 304s 543ms/step - loss: 1.6583 - accuracy: 0.3950 - val_loss: 1.3884 - val_accuracy: 0.5400\n",
      "Epoch 16/50\n",
      "560/560 [==============================] - 298s 533ms/step - loss: 1.6111 - accuracy: 0.4114 - val_loss: 1.4810 - val_accuracy: 0.5550\n",
      "Epoch 17/50\n",
      "560/560 [==============================] - 297s 531ms/step - loss: 1.5921 - accuracy: 0.4264 - val_loss: 1.3353 - val_accuracy: 0.5629\n",
      "Epoch 18/50\n",
      "560/560 [==============================] - 296s 529ms/step - loss: 1.5655 - accuracy: 0.4307 - val_loss: 1.2691 - val_accuracy: 0.5971\n",
      "Epoch 19/50\n",
      "560/560 [==============================] - 296s 528ms/step - loss: 1.5173 - accuracy: 0.4423 - val_loss: 1.2586 - val_accuracy: 0.5929\n",
      "Epoch 20/50\n",
      "560/560 [==============================] - 297s 531ms/step - loss: 1.5073 - accuracy: 0.4577 - val_loss: 1.2174 - val_accuracy: 0.5979\n",
      "Epoch 21/50\n",
      "560/560 [==============================] - 299s 533ms/step - loss: 1.4404 - accuracy: 0.4732 - val_loss: 1.2210 - val_accuracy: 0.5929\n",
      "Epoch 22/50\n",
      "560/560 [==============================] - 295s 527ms/step - loss: 1.4677 - accuracy: 0.4729 - val_loss: 1.4422 - val_accuracy: 0.5007\n",
      "Epoch 23/50\n",
      "560/560 [==============================] - 296s 529ms/step - loss: 1.4210 - accuracy: 0.4809 - val_loss: 1.1686 - val_accuracy: 0.6200\n",
      "Epoch 24/50\n",
      "560/560 [==============================] - 296s 528ms/step - loss: 1.4070 - accuracy: 0.4930 - val_loss: 1.2411 - val_accuracy: 0.6079\n",
      "Epoch 25/50\n",
      "560/560 [==============================] - 315s 563ms/step - loss: 1.4236 - accuracy: 0.4889 - val_loss: 1.0893 - val_accuracy: 0.6721\n",
      "Epoch 26/50\n",
      "560/560 [==============================] - 357s 638ms/step - loss: 1.3598 - accuracy: 0.5104 - val_loss: 1.1316 - val_accuracy: 0.6036\n",
      "Epoch 27/50\n",
      "560/560 [==============================] - 325s 581ms/step - loss: 1.3432 - accuracy: 0.5171 - val_loss: 1.2783 - val_accuracy: 0.5586\n",
      "Epoch 28/50\n",
      "560/560 [==============================] - 308s 551ms/step - loss: 1.3128 - accuracy: 0.5229 - val_loss: 1.0575 - val_accuracy: 0.6393\n",
      "Epoch 29/50\n",
      "560/560 [==============================] - 302s 539ms/step - loss: 1.2991 - accuracy: 0.5300 - val_loss: 1.1987 - val_accuracy: 0.5800\n",
      "Epoch 30/50\n",
      "560/560 [==============================] - 315s 563ms/step - loss: 1.2830 - accuracy: 0.5330 - val_loss: 1.0909 - val_accuracy: 0.6486\n",
      "Epoch 31/50\n",
      "560/560 [==============================] - 349s 623ms/step - loss: 1.2165 - accuracy: 0.5591 - val_loss: 1.0625 - val_accuracy: 0.6479\n",
      "Epoch 32/50\n",
      "560/560 [==============================] - 348s 622ms/step - loss: 1.1911 - accuracy: 0.5623 - val_loss: 1.0116 - val_accuracy: 0.6679\n",
      "Epoch 33/50\n",
      "560/560 [==============================] - 301s 537ms/step - loss: 1.1998 - accuracy: 0.5714 - val_loss: 1.0817 - val_accuracy: 0.6357\n",
      "Epoch 34/50\n",
      "560/560 [==============================] - 303s 540ms/step - loss: 1.1555 - accuracy: 0.5830 - val_loss: 1.3583 - val_accuracy: 0.5471\n",
      "Epoch 35/50\n",
      "560/560 [==============================] - 313s 558ms/step - loss: 1.0983 - accuracy: 0.6002 - val_loss: 0.9864 - val_accuracy: 0.6821\n",
      "Epoch 36/50\n",
      "560/560 [==============================] - 339s 605ms/step - loss: 1.1285 - accuracy: 0.5921 - val_loss: 1.0161 - val_accuracy: 0.6721\n",
      "Epoch 37/50\n",
      "560/560 [==============================] - 360s 644ms/step - loss: 1.0672 - accuracy: 0.6105 - val_loss: 1.0162 - val_accuracy: 0.6364\n",
      "Epoch 38/50\n",
      "560/560 [==============================] - 413s 737ms/step - loss: 1.0731 - accuracy: 0.6223 - val_loss: 0.9443 - val_accuracy: 0.7036\n",
      "Epoch 39/50\n",
      "560/560 [==============================] - 403s 720ms/step - loss: 1.0075 - accuracy: 0.6405 - val_loss: 1.0068 - val_accuracy: 0.6486\n",
      "Epoch 40/50\n",
      "560/560 [==============================] - 357s 638ms/step - loss: 0.9761 - accuracy: 0.6523 - val_loss: 0.8680 - val_accuracy: 0.7164\n",
      "Epoch 41/50\n",
      "560/560 [==============================] - 330s 590ms/step - loss: 0.9207 - accuracy: 0.6659 - val_loss: 0.9834 - val_accuracy: 0.6736\n",
      "Epoch 42/50\n",
      "560/560 [==============================] - 358s 639ms/step - loss: 0.9438 - accuracy: 0.6618 - val_loss: 0.8799 - val_accuracy: 0.7186\n",
      "Epoch 43/50\n",
      "560/560 [==============================] - 357s 638ms/step - loss: 0.8897 - accuracy: 0.6745 - val_loss: 0.9071 - val_accuracy: 0.7121\n",
      "Epoch 44/50\n",
      "560/560 [==============================] - 349s 623ms/step - loss: 0.8652 - accuracy: 0.6971 - val_loss: 0.8618 - val_accuracy: 0.7164\n",
      "Epoch 45/50\n",
      "560/560 [==============================] - 325s 581ms/step - loss: 0.8398 - accuracy: 0.7018 - val_loss: 1.0008 - val_accuracy: 0.6793\n",
      "Epoch 46/50\n",
      "560/560 [==============================] - 2037s 4s/step - loss: 0.8121 - accuracy: 0.7098 - val_loss: 0.8946 - val_accuracy: 0.7071\n",
      "Epoch 47/50\n",
      "560/560 [==============================] - 369s 659ms/step - loss: 0.8089 - accuracy: 0.7146 - val_loss: 0.8564 - val_accuracy: 0.7336\n",
      "Epoch 48/50\n",
      "560/560 [==============================] - 353s 630ms/step - loss: 0.8034 - accuracy: 0.7161 - val_loss: 0.8637 - val_accuracy: 0.7071\n",
      "Epoch 49/50\n",
      "560/560 [==============================] - 352s 629ms/step - loss: 0.7861 - accuracy: 0.7184 - val_loss: 0.8468 - val_accuracy: 0.7100\n",
      "Epoch 50/50\n",
      "560/560 [==============================] - 360s 643ms/step - loss: 0.7461 - accuracy: 0.7368 - val_loss: 0.9016 - val_accuracy: 0.7014\n"
     ]
    },
    {
     "data": {
      "text/plain": [
       "<keras.callbacks.History at 0x277dcfdd760>"
      ]
     },
     "execution_count": 33,
     "metadata": {},
     "output_type": "execute_result"
    }
   ],
   "source": [
    "m.fit(x_trains,y_trainf,batch_size=10,epochs=50,initial_epoch=6,validation_split=0.2)"
   ]
  },
  {
   "cell_type": "markdown",
   "id": "7d709ca3",
   "metadata": {},
   "source": [
    "## evaluating the model on x_trains,y_trainf"
   ]
  },
  {
   "cell_type": "code",
   "execution_count": null,
   "id": "06b64e0d",
   "metadata": {},
   "outputs": [],
   "source": [
    "m.evaluate(x_trains,y_trainf)"
   ]
  },
  {
   "cell_type": "markdown",
   "id": "d413692f",
   "metadata": {},
   "source": [
    "## evaluating the best model n x_tests,y_testf"
   ]
  },
  {
   "cell_type": "code",
   "execution_count": null,
   "id": "356d2875",
   "metadata": {},
   "outputs": [],
   "source": [
    "m.evaluate(x_tests,y_testf)"
   ]
  },
  {
   "cell_type": "markdown",
   "id": "6b6f874e",
   "metadata": {},
   "source": [
    "* when I send un-seen data to the model it will works 73% accuratelly"
   ]
  }
 ],
 "metadata": {
  "kernelspec": {
   "display_name": "Python 3 (ipykernel)",
   "language": "python",
   "name": "python3"
  },
  "language_info": {
   "codemirror_mode": {
    "name": "ipython",
    "version": 3
   },
   "file_extension": ".py",
   "mimetype": "text/x-python",
   "name": "python",
   "nbconvert_exporter": "python",
   "pygments_lexer": "ipython3",
   "version": "3.9.12"
  }
 },
 "nbformat": 4,
 "nbformat_minor": 5
}
